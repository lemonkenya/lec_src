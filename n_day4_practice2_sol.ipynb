{
  "nbformat": 4,
  "nbformat_minor": 0,
  "metadata": {
    "colab": {
      "name": "n_day4-practice2_sol.ipynb",
      "provenance": [],
      "collapsed_sections": [],
      "toc_visible": true,
      "machine_shape": "hm"
    },
    "kernelspec": {
      "display_name": "Python 3",
      "language": "python",
      "name": "python3"
    },
    "language_info": {
      "codemirror_mode": {
        "name": "ipython",
        "version": 3
      },
      "file_extension": ".py",
      "mimetype": "text/x-python",
      "name": "python",
      "nbconvert_exporter": "python",
      "pygments_lexer": "ipython3",
      "version": "3.8.3"
    },
    "accelerator": "GPU"
  },
  "cells": [
    {
      "cell_type": "markdown",
      "metadata": {
        "id": "APMpdGRF2EnW"
      },
      "source": [
        "**해군사 AI 과정**\n",
        "\n",
        "Dat 4: 딥러닝 기초 I (2021-06-03)\n",
        "\n",
        "User: 문영제\n",
        "\n",
        "실습 #2: 신경망 모형 학습을 통해 MNIST 패션 데이터를 분류하고 California Housing Price 데이터의 회귀분석 문제도 풀어봄"
      ]
    },
    {
      "cell_type": "markdown",
      "metadata": {
        "id": "gz0sbclr5jUk"
      },
      "source": [
        "## 0. 데이터셋 준비"
      ]
    },
    {
      "cell_type": "code",
      "metadata": {
        "id": "JLvN_WS1--lA"
      },
      "source": [
        "# keras 라이브러리 가져오기\n",
        "\n",
        "import keras\n",
        "import tensorflow as tf # 이제는 keras를 사요하기 위해 tf도 사용해야 됩니다\n",
        "                        # 일부 라이브러리 내용이 tf 패키지로 이동되었어요"
      ],
      "execution_count": 1,
      "outputs": []
    },
    {
      "cell_type": "code",
      "metadata": {
        "id": "5w9C0Guw_dHh"
      },
      "source": [
        "# MNIST 패션 데이터 로딩하기\n",
        "\n",
        "fashion_mnist = tf.keras.datasets.fashion_mnist"
      ],
      "execution_count": 2,
      "outputs": []
    },
    {
      "cell_type": "markdown",
      "metadata": {
        "id": "MOofdPJVolIo"
      },
      "source": [
        "---\n",
        "tf.keras.datasets.fashion_mnist.load_data\n",
        "- [참조](https://www.tensorflow.org/api_docs/python/tf/keras/datasets/fashion_mnist/load_data)"
      ]
    },
    {
      "cell_type": "code",
      "metadata": {
        "id": "5THzsbWu_oAb"
      },
      "source": [
        "# load_data()는 아래 형식으로 데이터를 가져옵니다.\n",
        "(X_train_full, y_train_full), (X_test, y_test) = fashion_mnist.load_data()"
      ],
      "execution_count": 3,
      "outputs": []
    },
    {
      "cell_type": "code",
      "metadata": {
        "colab": {
          "base_uri": "https://localhost:8080/"
        },
        "id": "Rw7lHK4b_w1x",
        "outputId": "af34b1d8-782c-4832-9227-6c13a51663a5"
      },
      "source": [
        "# 패션 데이터 크기\n",
        "X_train_full.shape      # 60,000 개의 28x28 이미지"
      ],
      "execution_count": 4,
      "outputs": [
        {
          "output_type": "execute_result",
          "data": {
            "text/plain": [
              "(60000, 28, 28)"
            ]
          },
          "metadata": {
            "tags": []
          },
          "execution_count": 4
        }
      ]
    },
    {
      "cell_type": "code",
      "metadata": {
        "colab": {
          "base_uri": "https://localhost:8080/"
        },
        "id": "BkQNRg3g4qT_",
        "outputId": "5e210d93-155e-4f84-df75-e2c6a903037c"
      },
      "source": [
        "# 패션 데이터 첫 번째 데이터 내용 (28x28 행렬)\n",
        "X_train_full[0]"
      ],
      "execution_count": 5,
      "outputs": [
        {
          "output_type": "execute_result",
          "data": {
            "text/plain": [
              "array([[  0,   0,   0,   0,   0,   0,   0,   0,   0,   0,   0,   0,   0,\n",
              "          0,   0,   0,   0,   0,   0,   0,   0,   0,   0,   0,   0,   0,\n",
              "          0,   0],\n",
              "       [  0,   0,   0,   0,   0,   0,   0,   0,   0,   0,   0,   0,   0,\n",
              "          0,   0,   0,   0,   0,   0,   0,   0,   0,   0,   0,   0,   0,\n",
              "          0,   0],\n",
              "       [  0,   0,   0,   0,   0,   0,   0,   0,   0,   0,   0,   0,   0,\n",
              "          0,   0,   0,   0,   0,   0,   0,   0,   0,   0,   0,   0,   0,\n",
              "          0,   0],\n",
              "       [  0,   0,   0,   0,   0,   0,   0,   0,   0,   0,   0,   0,   1,\n",
              "          0,   0,  13,  73,   0,   0,   1,   4,   0,   0,   0,   0,   1,\n",
              "          1,   0],\n",
              "       [  0,   0,   0,   0,   0,   0,   0,   0,   0,   0,   0,   0,   3,\n",
              "          0,  36, 136, 127,  62,  54,   0,   0,   0,   1,   3,   4,   0,\n",
              "          0,   3],\n",
              "       [  0,   0,   0,   0,   0,   0,   0,   0,   0,   0,   0,   0,   6,\n",
              "          0, 102, 204, 176, 134, 144, 123,  23,   0,   0,   0,   0,  12,\n",
              "         10,   0],\n",
              "       [  0,   0,   0,   0,   0,   0,   0,   0,   0,   0,   0,   0,   0,\n",
              "          0, 155, 236, 207, 178, 107, 156, 161, 109,  64,  23,  77, 130,\n",
              "         72,  15],\n",
              "       [  0,   0,   0,   0,   0,   0,   0,   0,   0,   0,   0,   1,   0,\n",
              "         69, 207, 223, 218, 216, 216, 163, 127, 121, 122, 146, 141,  88,\n",
              "        172,  66],\n",
              "       [  0,   0,   0,   0,   0,   0,   0,   0,   0,   1,   1,   1,   0,\n",
              "        200, 232, 232, 233, 229, 223, 223, 215, 213, 164, 127, 123, 196,\n",
              "        229,   0],\n",
              "       [  0,   0,   0,   0,   0,   0,   0,   0,   0,   0,   0,   0,   0,\n",
              "        183, 225, 216, 223, 228, 235, 227, 224, 222, 224, 221, 223, 245,\n",
              "        173,   0],\n",
              "       [  0,   0,   0,   0,   0,   0,   0,   0,   0,   0,   0,   0,   0,\n",
              "        193, 228, 218, 213, 198, 180, 212, 210, 211, 213, 223, 220, 243,\n",
              "        202,   0],\n",
              "       [  0,   0,   0,   0,   0,   0,   0,   0,   0,   1,   3,   0,  12,\n",
              "        219, 220, 212, 218, 192, 169, 227, 208, 218, 224, 212, 226, 197,\n",
              "        209,  52],\n",
              "       [  0,   0,   0,   0,   0,   0,   0,   0,   0,   0,   6,   0,  99,\n",
              "        244, 222, 220, 218, 203, 198, 221, 215, 213, 222, 220, 245, 119,\n",
              "        167,  56],\n",
              "       [  0,   0,   0,   0,   0,   0,   0,   0,   0,   4,   0,   0,  55,\n",
              "        236, 228, 230, 228, 240, 232, 213, 218, 223, 234, 217, 217, 209,\n",
              "         92,   0],\n",
              "       [  0,   0,   1,   4,   6,   7,   2,   0,   0,   0,   0,   0, 237,\n",
              "        226, 217, 223, 222, 219, 222, 221, 216, 223, 229, 215, 218, 255,\n",
              "         77,   0],\n",
              "       [  0,   3,   0,   0,   0,   0,   0,   0,   0,  62, 145, 204, 228,\n",
              "        207, 213, 221, 218, 208, 211, 218, 224, 223, 219, 215, 224, 244,\n",
              "        159,   0],\n",
              "       [  0,   0,   0,   0,  18,  44,  82, 107, 189, 228, 220, 222, 217,\n",
              "        226, 200, 205, 211, 230, 224, 234, 176, 188, 250, 248, 233, 238,\n",
              "        215,   0],\n",
              "       [  0,  57, 187, 208, 224, 221, 224, 208, 204, 214, 208, 209, 200,\n",
              "        159, 245, 193, 206, 223, 255, 255, 221, 234, 221, 211, 220, 232,\n",
              "        246,   0],\n",
              "       [  3, 202, 228, 224, 221, 211, 211, 214, 205, 205, 205, 220, 240,\n",
              "         80, 150, 255, 229, 221, 188, 154, 191, 210, 204, 209, 222, 228,\n",
              "        225,   0],\n",
              "       [ 98, 233, 198, 210, 222, 229, 229, 234, 249, 220, 194, 215, 217,\n",
              "        241,  65,  73, 106, 117, 168, 219, 221, 215, 217, 223, 223, 224,\n",
              "        229,  29],\n",
              "       [ 75, 204, 212, 204, 193, 205, 211, 225, 216, 185, 197, 206, 198,\n",
              "        213, 240, 195, 227, 245, 239, 223, 218, 212, 209, 222, 220, 221,\n",
              "        230,  67],\n",
              "       [ 48, 203, 183, 194, 213, 197, 185, 190, 194, 192, 202, 214, 219,\n",
              "        221, 220, 236, 225, 216, 199, 206, 186, 181, 177, 172, 181, 205,\n",
              "        206, 115],\n",
              "       [  0, 122, 219, 193, 179, 171, 183, 196, 204, 210, 213, 207, 211,\n",
              "        210, 200, 196, 194, 191, 195, 191, 198, 192, 176, 156, 167, 177,\n",
              "        210,  92],\n",
              "       [  0,   0,  74, 189, 212, 191, 175, 172, 175, 181, 185, 188, 189,\n",
              "        188, 193, 198, 204, 209, 210, 210, 211, 188, 188, 194, 192, 216,\n",
              "        170,   0],\n",
              "       [  2,   0,   0,   0,  66, 200, 222, 237, 239, 242, 246, 243, 244,\n",
              "        221, 220, 193, 191, 179, 182, 182, 181, 176, 166, 168,  99,  58,\n",
              "          0,   0],\n",
              "       [  0,   0,   0,   0,   0,   0,   0,  40,  61,  44,  72,  41,  35,\n",
              "          0,   0,   0,   0,   0,   0,   0,   0,   0,   0,   0,   0,   0,\n",
              "          0,   0],\n",
              "       [  0,   0,   0,   0,   0,   0,   0,   0,   0,   0,   0,   0,   0,\n",
              "          0,   0,   0,   0,   0,   0,   0,   0,   0,   0,   0,   0,   0,\n",
              "          0,   0],\n",
              "       [  0,   0,   0,   0,   0,   0,   0,   0,   0,   0,   0,   0,   0,\n",
              "          0,   0,   0,   0,   0,   0,   0,   0,   0,   0,   0,   0,   0,\n",
              "          0,   0]], dtype=uint8)"
            ]
          },
          "metadata": {
            "tags": []
          },
          "execution_count": 5
        }
      ]
    },
    {
      "cell_type": "code",
      "metadata": {
        "colab": {
          "base_uri": "https://localhost:8080/"
        },
        "id": "rW-WyWbh4vm9",
        "outputId": "8daae075-caf9-4fdd-bd5c-02c53a4dd9a5"
      },
      "source": [
        "# target 데이터 크기: 60,000 개의 vector\n",
        "y_train_full.shape"
      ],
      "execution_count": 6,
      "outputs": [
        {
          "output_type": "execute_result",
          "data": {
            "text/plain": [
              "(60000,)"
            ]
          },
          "metadata": {
            "tags": []
          },
          "execution_count": 6
        }
      ]
    },
    {
      "cell_type": "code",
      "metadata": {
        "colab": {
          "base_uri": "https://localhost:8080/"
        },
        "id": "qz88i1hvtbu9",
        "outputId": "9693109e-d693-4a11-e6b4-2ad3010b7776"
      },
      "source": [
        "# target 데이터의 첫 번째 데이터 값\n",
        "y_train_full[0]"
      ],
      "execution_count": 7,
      "outputs": [
        {
          "output_type": "execute_result",
          "data": {
            "text/plain": [
              "9"
            ]
          },
          "metadata": {
            "tags": []
          },
          "execution_count": 7
        }
      ]
    },
    {
      "cell_type": "code",
      "metadata": {
        "colab": {
          "base_uri": "https://localhost:8080/"
        },
        "id": "5pU4U58ythqB",
        "outputId": "db20dea3-d170-4244-a274-43b39a6f6ec2"
      },
      "source": [
        "# target 데이터의 첫 5 개의 데이터 값들\n",
        "y_train_full[:5]"
      ],
      "execution_count": 8,
      "outputs": [
        {
          "output_type": "execute_result",
          "data": {
            "text/plain": [
              "array([9, 0, 0, 3, 0], dtype=uint8)"
            ]
          },
          "metadata": {
            "tags": []
          },
          "execution_count": 8
        }
      ]
    },
    {
      "cell_type": "code",
      "metadata": {
        "colab": {
          "base_uri": "https://localhost:8080/"
        },
        "id": "jzDU6-gl4zdb",
        "outputId": "bea5c077-605e-4a0e-fe44-7f727f4dd9e2"
      },
      "source": [
        "# target 데이터들의 종류를 알아보자!\n",
        "import numpy as np\n",
        "\n",
        "np.unique(y_train_full) # numpy의 unique()로 중복성 제거!"
      ],
      "execution_count": 9,
      "outputs": [
        {
          "output_type": "execute_result",
          "data": {
            "text/plain": [
              "array([0, 1, 2, 3, 4, 5, 6, 7, 8, 9], dtype=uint8)"
            ]
          },
          "metadata": {
            "tags": []
          },
          "execution_count": 9
        }
      ]
    },
    {
      "cell_type": "code",
      "metadata": {
        "colab": {
          "base_uri": "https://localhost:8080/",
          "height": 265
        },
        "id": "ZJclxDzUUe4_",
        "outputId": "0419dc2c-ae9a-4036-c27d-1e1d4a005068"
      },
      "source": [
        "# 28x28 행렬의 데이터를 그림으로 표현하기\n",
        "\n",
        "import matplotlib.pyplot as plt\n",
        "\n",
        "plt.imshow(X_train_full[1], cmap='gray') # 첫 번째 데이터를 흑백 그림으로\n",
        "plt.show()"
      ],
      "execution_count": 10,
      "outputs": [
        {
          "output_type": "display_data",
          "data": {
            "image/png": "[encoded data removed]",
            "text/plain": [
              "<Figure size 432x288 with 1 Axes>"
            ]
          },
          "metadata": {
            "tags": [],
            "needs_background": "light"
          }
        }
      ]
    },
    {
      "cell_type": "code",
      "metadata": {
        "id": "yVGIpeMgABS5"
      },
      "source": [
        "# target 의 각 숫자값에 해당하는 클래스 명 지정하기\n",
        "\n",
        "class_names=[\"T-shirt/top\", 'Trouser', 'Pullover', 'Dress', \"Coat\", \n",
        "             \"Sandal\", \"Shirt\", \"Sneaker\", \"Bag\", \"Ankle boot\"]"
      ],
      "execution_count": 11,
      "outputs": []
    },
    {
      "cell_type": "code",
      "metadata": {
        "colab": {
          "base_uri": "https://localhost:8080/",
          "height": 35
        },
        "id": "Ms_4UvJxAO-R",
        "outputId": "6bac40cc-5ed6-4289-ba42-a078a1cd365a"
      },
      "source": [
        "# 이제 우리는 class_names를 이용하여, 첫 번째 데이터의 종류를 알 수 있어요.\n",
        "class_names[y_train_full[0]]"
      ],
      "execution_count": 12,
      "outputs": [
        {
          "output_type": "execute_result",
          "data": {
            "application/vnd.google.colaboratory.intrinsic+json": {
              "type": "string"
            },
            "text/plain": [
              "'Ankle boot'"
            ]
          },
          "metadata": {
            "tags": []
          },
          "execution_count": 12
        }
      ]
    },
    {
      "cell_type": "code",
      "metadata": {
        "id": "a70Q2VQJ_ziq"
      },
      "source": [
        "# 학습용 데이터를 다시 학습용 데이터와 검증용 데이터 (valdiation set) 으로 분리\n",
        "# 분리와 동시에 정규화 (255로 나누어 주기; 최대값이 1이 되도록)\n",
        "\n",
        "# valid와 train으로 나누기\n",
        "# 60,000 개의 데이터 중 첫 5000개를 valid로 지정, 나머지는 train으로\n",
        "# 지정과 동시에 255로 나눈 값으로 할당\n",
        "X_valid, X_train = X_train_full[:5000]/255.0, X_train_full[5000:]/255.0\n",
        "y_valid, y_train = y_train_full[:5000], y_train_full[5000:]\n",
        "\n",
        "# test 데이터 셋은 정규화만\n",
        "X_test = X_test / 255.0"
      ],
      "execution_count": 13,
      "outputs": []
    },
    {
      "cell_type": "markdown",
      "metadata": {
        "id": "RzCzOsbj7-54"
      },
      "source": [
        "## 1. 모형 만들기"
      ]
    },
    {
      "cell_type": "code",
      "metadata": {
        "id": "QKxXMaXDASBx"
      },
      "source": [
        "# keras 의 Sequential API 를 활용하여 신경망 모형의 골격 만듦\n",
        "# - 은닉층이 2개이며 첫번째 은닉층에 뉴런 300개, 두번째 은닉층에 뉴런 100개 인 골격 만듦\n",
        "# - 활성함수는 relu 사용\n",
        "\n",
        "# 신경망 모형 객체\n",
        "model = keras.models.Sequential()\n",
        "\n",
        "# 입력층\n",
        "model.add(keras.layers.Flatten(input_shape=[28, 28])) # 28x28 행렬 입력 데이터\n",
        "\n",
        "# 은닉층\n",
        "model.add(keras.layers.Dense(300, activation=\"relu\"))\n",
        "model.add(keras.layers.Dense(100, activation=\"relu\"))\n",
        "\n",
        "# 출력층 (분류 개수만큼 뉴런, 활성함수는 softmax)\n",
        "model.add(keras.layers.Dense(10, activation=\"softmax\")) "
      ],
      "execution_count": 14,
      "outputs": []
    },
    {
      "cell_type": "code",
      "metadata": {
        "colab": {
          "base_uri": "https://localhost:8080/"
        },
        "id": "anR1jTNmCUml",
        "outputId": "190da888-f02c-4a3e-aa8c-30943e0c3d6e"
      },
      "source": [
        "# 모형의 골격과 모수 개수 출력하기\n",
        "\n",
        "model.summary()"
      ],
      "execution_count": 15,
      "outputs": [
        {
          "output_type": "stream",
          "text": [
            "Model: \"sequential\"\n",
            "_________________________________________________________________\n",
            "Layer (type)                 Output Shape              Param #   \n",
            "=================================================================\n",
            "flatten (Flatten)            (None, 784)               0         \n",
            "_________________________________________________________________\n",
            "dense (Dense)                (None, 300)               235500    \n",
            "_________________________________________________________________\n",
            "dense_1 (Dense)              (None, 100)               30100     \n",
            "_________________________________________________________________\n",
            "dense_2 (Dense)              (None, 10)                1010      \n",
            "=================================================================\n",
            "Total params: 266,610\n",
            "Trainable params: 266,610\n",
            "Non-trainable params: 0\n",
            "_________________________________________________________________\n"
          ],
          "name": "stdout"
        }
      ]
    },
    {
      "cell_type": "markdown",
      "metadata": {
        "id": "9Y2eGYQErunb"
      },
      "source": [
        "- 입력층은 flatten()으로 되어 있는데, 비록 우리는 28x28 행렬로 입력하지만, 결국에는 벡터로 입력되어야 하기에 내부적으로 28x28을 flatten으로 (784,) 벡터로 변환시켜줌\n",
        "- 따로 층에 이름을 부여하지 않으면, dense의 경우, 그냥 dense, dense_1, dense_2 등으로 이름이 부여됨\n",
        "- 첫 번째 은닉층의 모수 개수: (784 * 300) + 300 = 235,500 (각 입력의 weight와 bias의 합임)\n",
        "- 즉, 모수 개수는 이전 층 뉴런 개수 * 현재 층 뉴런 개수 + 현재 층 뉴런 수임 (Sequential이며 Dense인 경우에만 이 공식이 성립)"
      ]
    },
    {
      "cell_type": "code",
      "metadata": {
        "id": "RymVYSnBCal4"
      },
      "source": [
        "# 모수의 초기값 출력하기\n",
        "\n",
        "hidden1 = model.layers[1]\n",
        "weights, biases = hidden1.get_weights()"
      ],
      "execution_count": 16,
      "outputs": []
    },
    {
      "cell_type": "markdown",
      "metadata": {
        "id": "kIM14Z78tvLw"
      },
      "source": [
        "keras의 Dense의 초기값 설정 관련\n",
        "- keras 문서에 따르면, Dense의 초기값은 kernel_initializer에 값을 설정하여 지정할 수 있으며, 기본값은 \"glorot_uniform\" 이다. [참조](https://keras.io/ko/layers/core/)\n",
        "- glorot uniform (Glorot 균등분포)의 설명 [참조](https://reniew.github.io/13/)\n",
        "- 초기값을 변경할 수 있는 방법들 [참조](https://keras.io/ko/initializers/)"
      ]
    },
    {
      "cell_type": "code",
      "metadata": {
        "colab": {
          "base_uri": "https://localhost:8080/"
        },
        "id": "HJV4ZMldClHf",
        "outputId": "ec7bb3b3-5e63-4e91-d3ec-5fcadf03a3a4"
      },
      "source": [
        "weights"
      ],
      "execution_count": 17,
      "outputs": [
        {
          "output_type": "execute_result",
          "data": {
            "text/plain": [
              "array([[-0.04901455,  0.04743756,  0.06032449, ...,  0.03688519,\n",
              "         0.03408345, -0.06361747],\n",
              "       [-0.06852937,  0.01954254,  0.05942844, ..., -0.07104612,\n",
              "        -0.05486593, -0.0295422 ],\n",
              "       [-0.02816968,  0.01013557, -0.05305883, ...,  0.06871478,\n",
              "        -0.04815327,  0.02970582],\n",
              "       ...,\n",
              "       [ 0.03156515, -0.05609298,  0.03600278, ...,  0.04369482,\n",
              "         0.02114759,  0.06484066],\n",
              "       [ 0.07376802, -0.06150942, -0.07231981, ..., -0.03376188,\n",
              "        -0.02804161, -0.04932705],\n",
              "       [-0.05076354, -0.00565451, -0.03529524, ...,  0.02029347,\n",
              "        -0.05622043,  0.06256327]], dtype=float32)"
            ]
          },
          "metadata": {
            "tags": []
          },
          "execution_count": 17
        }
      ]
    },
    {
      "cell_type": "code",
      "metadata": {
        "colab": {
          "base_uri": "https://localhost:8080/"
        },
        "id": "_sfyMGO4CpHQ",
        "outputId": "a0679886-4767-4036-b0b4-72af8135e4a6"
      },
      "source": [
        "weights.shape"
      ],
      "execution_count": 18,
      "outputs": [
        {
          "output_type": "execute_result",
          "data": {
            "text/plain": [
              "(784, 300)"
            ]
          },
          "metadata": {
            "tags": []
          },
          "execution_count": 18
        }
      ]
    },
    {
      "cell_type": "markdown",
      "metadata": {
        "id": "kL6f2WdAwLFc"
      },
      "source": [
        "가중치는 784 x 300 개입니다.\n",
        "\n",
        "\n",
        "---\n",
        "\n"
      ]
    },
    {
      "cell_type": "code",
      "metadata": {
        "colab": {
          "base_uri": "https://localhost:8080/"
        },
        "id": "_ipfiNhlCq-v",
        "outputId": "572bf40f-cbd5-4801-bdca-cf90fc7dacbb"
      },
      "source": [
        "biases"
      ],
      "execution_count": 19,
      "outputs": [
        {
          "output_type": "execute_result",
          "data": {
            "text/plain": [
              "array([0., 0., 0., 0., 0., 0., 0., 0., 0., 0., 0., 0., 0., 0., 0., 0., 0.,\n",
              "       0., 0., 0., 0., 0., 0., 0., 0., 0., 0., 0., 0., 0., 0., 0., 0., 0.,\n",
              "       0., 0., 0., 0., 0., 0., 0., 0., 0., 0., 0., 0., 0., 0., 0., 0., 0.,\n",
              "       0., 0., 0., 0., 0., 0., 0., 0., 0., 0., 0., 0., 0., 0., 0., 0., 0.,\n",
              "       0., 0., 0., 0., 0., 0., 0., 0., 0., 0., 0., 0., 0., 0., 0., 0., 0.,\n",
              "       0., 0., 0., 0., 0., 0., 0., 0., 0., 0., 0., 0., 0., 0., 0., 0., 0.,\n",
              "       0., 0., 0., 0., 0., 0., 0., 0., 0., 0., 0., 0., 0., 0., 0., 0., 0.,\n",
              "       0., 0., 0., 0., 0., 0., 0., 0., 0., 0., 0., 0., 0., 0., 0., 0., 0.,\n",
              "       0., 0., 0., 0., 0., 0., 0., 0., 0., 0., 0., 0., 0., 0., 0., 0., 0.,\n",
              "       0., 0., 0., 0., 0., 0., 0., 0., 0., 0., 0., 0., 0., 0., 0., 0., 0.,\n",
              "       0., 0., 0., 0., 0., 0., 0., 0., 0., 0., 0., 0., 0., 0., 0., 0., 0.,\n",
              "       0., 0., 0., 0., 0., 0., 0., 0., 0., 0., 0., 0., 0., 0., 0., 0., 0.,\n",
              "       0., 0., 0., 0., 0., 0., 0., 0., 0., 0., 0., 0., 0., 0., 0., 0., 0.,\n",
              "       0., 0., 0., 0., 0., 0., 0., 0., 0., 0., 0., 0., 0., 0., 0., 0., 0.,\n",
              "       0., 0., 0., 0., 0., 0., 0., 0., 0., 0., 0., 0., 0., 0., 0., 0., 0.,\n",
              "       0., 0., 0., 0., 0., 0., 0., 0., 0., 0., 0., 0., 0., 0., 0., 0., 0.,\n",
              "       0., 0., 0., 0., 0., 0., 0., 0., 0., 0., 0., 0., 0., 0., 0., 0., 0.,\n",
              "       0., 0., 0., 0., 0., 0., 0., 0., 0., 0., 0.], dtype=float32)"
            ]
          },
          "metadata": {
            "tags": []
          },
          "execution_count": 19
        }
      ]
    },
    {
      "cell_type": "code",
      "metadata": {
        "colab": {
          "base_uri": "https://localhost:8080/"
        },
        "id": "YoB1Hf2gCs5C",
        "outputId": "485164a4-e482-4c9d-eea2-9f3c01290368"
      },
      "source": [
        "biases.shape"
      ],
      "execution_count": 20,
      "outputs": [
        {
          "output_type": "execute_result",
          "data": {
            "text/plain": [
              "(300,)"
            ]
          },
          "metadata": {
            "tags": []
          },
          "execution_count": 20
        }
      ]
    },
    {
      "cell_type": "markdown",
      "metadata": {
        "id": "HIKVelKOwXzn"
      },
      "source": [
        "편향은 300개에요.\n",
        "\n",
        "\n",
        "---\n",
        "\n"
      ]
    },
    {
      "cell_type": "markdown",
      "metadata": {
        "id": "SBwUD82FwfYm"
      },
      "source": [
        "이제 모형을 컴파일해봅시다"
      ]
    },
    {
      "cell_type": "code",
      "metadata": {
        "id": "mMCuI62aCuuZ"
      },
      "source": [
        "# 모형 컴파일하기 (손실함수, 최적화 방법 지정)\n",
        "\n",
        "model.compile(loss=\"sparse_categorical_crossentropy\",   # 손실함수는 교차 엔트로피 \n",
        "              optimizer=\"sgd\",                          # SGD (mini-batch)\n",
        "              metrics=[\"accuracy\"])                     # 정확도를 근거로"
      ],
      "execution_count": 21,
      "outputs": []
    },
    {
      "cell_type": "markdown",
      "metadata": {
        "id": "7S_wc9_9xPz-"
      },
      "source": [
        "* metrics: metrics는 측정 함수인데, 학습 모형 성능을 평가하는 데 사용\n",
        "  - 분류 문제에서는 보통 “accuracy”를 사용 \n",
        "  - 학습 후에 성능 측정 시 accuracy 항목으로 확인 가능: validation과 비교하는 용도 (학습 후, validation set으로 추론해 보면서, 이 모델을 평가하는 데에 사용)"
      ]
    },
    {
      "cell_type": "markdown",
      "metadata": {
        "id": "ZIwlS00bECWM"
      },
      "source": [
        "손실함수 종류: https://keras.io/ko/losses/"
      ]
    },
    {
      "cell_type": "markdown",
      "metadata": {
        "id": "QGVbNaz08XlL"
      },
      "source": [
        "## 2. 모형 학습하기"
      ]
    },
    {
      "cell_type": "code",
      "metadata": {
        "colab": {
          "base_uri": "https://localhost:8080/"
        },
        "id": "9FF8L3GJFhhQ",
        "outputId": "55ab432e-5152-41df-b587-fcaaf78a369f"
      },
      "source": [
        "# Epoch 개수를 30개로 설정하여 모형 학습하기\n",
        "\n",
        "history = model.fit(X_train, y_train, epochs=30, validation_data=(X_valid, y_valid))"
      ],
      "execution_count": 22,
      "outputs": [
        {
          "output_type": "stream",
          "text": [
            "Epoch 1/30\n",
            "1719/1719 [==============================] - 15s 2ms/step - loss: 0.9979 - accuracy: 0.6842 - val_loss: 0.5045 - val_accuracy: 0.8274\n",
            "Epoch 2/30\n",
            "1719/1719 [==============================] - 3s 2ms/step - loss: 0.5030 - accuracy: 0.8258 - val_loss: 0.4450 - val_accuracy: 0.8464\n",
            "Epoch 3/30\n",
            "1719/1719 [==============================] - 3s 2ms/step - loss: 0.4576 - accuracy: 0.8404 - val_loss: 0.4134 - val_accuracy: 0.8592\n",
            "Epoch 4/30\n",
            "1719/1719 [==============================] - 3s 2ms/step - loss: 0.4219 - accuracy: 0.8506 - val_loss: 0.3893 - val_accuracy: 0.8638\n",
            "Epoch 5/30\n",
            "1719/1719 [==============================] - 3s 2ms/step - loss: 0.4061 - accuracy: 0.8561 - val_loss: 0.3907 - val_accuracy: 0.8632\n",
            "Epoch 6/30\n",
            "1719/1719 [==============================] - 3s 2ms/step - loss: 0.3832 - accuracy: 0.8662 - val_loss: 0.3863 - val_accuracy: 0.8630\n",
            "Epoch 7/30\n",
            "1719/1719 [==============================] - 3s 2ms/step - loss: 0.3735 - accuracy: 0.8698 - val_loss: 0.3658 - val_accuracy: 0.8718\n",
            "Epoch 8/30\n",
            "1719/1719 [==============================] - 3s 2ms/step - loss: 0.3632 - accuracy: 0.8719 - val_loss: 0.3613 - val_accuracy: 0.8716\n",
            "Epoch 9/30\n",
            "1719/1719 [==============================] - 3s 2ms/step - loss: 0.3439 - accuracy: 0.8791 - val_loss: 0.3511 - val_accuracy: 0.8772\n",
            "Epoch 10/30\n",
            "1719/1719 [==============================] - 3s 2ms/step - loss: 0.3367 - accuracy: 0.8797 - val_loss: 0.3364 - val_accuracy: 0.8806\n",
            "Epoch 11/30\n",
            "1719/1719 [==============================] - 3s 2ms/step - loss: 0.3252 - accuracy: 0.8833 - val_loss: 0.3460 - val_accuracy: 0.8716\n",
            "Epoch 12/30\n",
            "1719/1719 [==============================] - 3s 2ms/step - loss: 0.3210 - accuracy: 0.8869 - val_loss: 0.3524 - val_accuracy: 0.8758\n",
            "Epoch 13/30\n",
            "1719/1719 [==============================] - 3s 2ms/step - loss: 0.3130 - accuracy: 0.8875 - val_loss: 0.3391 - val_accuracy: 0.8798\n",
            "Epoch 14/30\n",
            "1719/1719 [==============================] - 3s 2ms/step - loss: 0.3035 - accuracy: 0.8887 - val_loss: 0.3334 - val_accuracy: 0.8796\n",
            "Epoch 15/30\n",
            "1719/1719 [==============================] - 3s 2ms/step - loss: 0.2980 - accuracy: 0.8936 - val_loss: 0.3410 - val_accuracy: 0.8768\n",
            "Epoch 16/30\n",
            "1719/1719 [==============================] - 3s 2ms/step - loss: 0.2890 - accuracy: 0.8948 - val_loss: 0.3424 - val_accuracy: 0.8724\n",
            "Epoch 17/30\n",
            "1719/1719 [==============================] - 3s 2ms/step - loss: 0.2877 - accuracy: 0.8977 - val_loss: 0.3198 - val_accuracy: 0.8866\n",
            "Epoch 18/30\n",
            "1719/1719 [==============================] - 3s 2ms/step - loss: 0.2820 - accuracy: 0.8990 - val_loss: 0.3161 - val_accuracy: 0.8842\n",
            "Epoch 19/30\n",
            "1719/1719 [==============================] - 3s 2ms/step - loss: 0.2705 - accuracy: 0.9031 - val_loss: 0.3209 - val_accuracy: 0.8814\n",
            "Epoch 20/30\n",
            "1719/1719 [==============================] - 3s 2ms/step - loss: 0.2680 - accuracy: 0.9029 - val_loss: 0.3211 - val_accuracy: 0.8846\n",
            "Epoch 21/30\n",
            "1719/1719 [==============================] - 3s 2ms/step - loss: 0.2665 - accuracy: 0.9044 - val_loss: 0.3181 - val_accuracy: 0.8878\n",
            "Epoch 22/30\n",
            "1719/1719 [==============================] - 3s 2ms/step - loss: 0.2566 - accuracy: 0.9076 - val_loss: 0.3092 - val_accuracy: 0.8872\n",
            "Epoch 23/30\n",
            "1719/1719 [==============================] - 3s 2ms/step - loss: 0.2567 - accuracy: 0.9078 - val_loss: 0.3115 - val_accuracy: 0.8854\n",
            "Epoch 24/30\n",
            "1719/1719 [==============================] - 3s 2ms/step - loss: 0.2493 - accuracy: 0.9094 - val_loss: 0.3148 - val_accuracy: 0.8816\n",
            "Epoch 25/30\n",
            "1719/1719 [==============================] - 3s 2ms/step - loss: 0.2555 - accuracy: 0.9095 - val_loss: 0.2993 - val_accuracy: 0.8920\n",
            "Epoch 26/30\n",
            "1719/1719 [==============================] - 3s 2ms/step - loss: 0.2465 - accuracy: 0.9114 - val_loss: 0.3206 - val_accuracy: 0.8842\n",
            "Epoch 27/30\n",
            "1719/1719 [==============================] - 3s 2ms/step - loss: 0.2435 - accuracy: 0.9110 - val_loss: 0.3061 - val_accuracy: 0.8892\n",
            "Epoch 28/30\n",
            "1719/1719 [==============================] - 3s 2ms/step - loss: 0.2321 - accuracy: 0.9176 - val_loss: 0.3072 - val_accuracy: 0.8906\n",
            "Epoch 29/30\n",
            "1719/1719 [==============================] - 3s 2ms/step - loss: 0.2307 - accuracy: 0.9167 - val_loss: 0.3107 - val_accuracy: 0.8880\n",
            "Epoch 30/30\n",
            "1719/1719 [==============================] - 3s 2ms/step - loss: 0.2302 - accuracy: 0.9171 - val_loss: 0.2956 - val_accuracy: 0.8902\n"
          ],
          "name": "stdout"
        }
      ]
    },
    {
      "cell_type": "markdown",
      "metadata": {
        "id": "zJTcdrzZyqQX"
      },
      "source": [
        "* epoch 아래의 1719의미는?\n",
        "  - 이 모델은 SGD (mini-batch)이며, batch의 기본 size는 32이다. 따라서 train data set의 개수는 (60000 - 5000) = 55,000 에서 32를 나누면, 1,718.75 이므로 1719 번을 실행하면, 1 Epoch를 완료하게 됨"
      ]
    },
    {
      "cell_type": "markdown",
      "metadata": {
        "id": "E1LeiMHH9MUw"
      },
      "source": [
        "## 3. 학습 결과 확인하기"
      ]
    },
    {
      "cell_type": "code",
      "metadata": {
        "colab": {
          "base_uri": "https://localhost:8080/",
          "height": 324
        },
        "id": "XOkkdBS1GlGx",
        "outputId": "31012e46-3947-4387-ae26-367ce5e195e0"
      },
      "source": [
        "# 학습 곡선 그리기\n",
        "\n",
        "import pandas as pd\n",
        "import matplotlib.pyplot as plt\n",
        "\n",
        "# fit()으로 얻어온 history에는 train과 val의 loss, accuracy 데이터가 있음\n",
        "pd.DataFrame(history.history).plot(figsize=(8,5)) # history 데이터를 pandas의\n",
        "                                                  # DataFrame으로 변경한 후,\n",
        "                                                  # 함수를 그리기 위해 크기 지정\n",
        "plt.grid(True)              # 그래프 내에 그리드 보이게\n",
        "plt.gca().set_ylim(0, 1)    # plt.gca()로 Axes 객체를 얻어온 후, y범위를 0~1로\n",
        "plt.show()"
      ],
      "execution_count": 23,
      "outputs": [
        {
          "output_type": "display_data",
          "data": {
            "image/png": "[encoded data removed]",
            "text/plain": [
              "<Figure size 576x360 with 1 Axes>"
            ]
          },
          "metadata": {
            "tags": [],
            "needs_background": "light"
          }
        }
      ]
    },
    {
      "cell_type": "markdown",
      "metadata": {
        "id": "PautFmlsxFGb"
      },
      "source": [
        "[DataFrame.Plot 참조](https://pandas.pydata.org/pandas-docs/stable/reference/api/pandas.DataFrame.plot.html)\n",
        "plt.gca()는 Axes 객체를 얻을 수 있음. Axes 객체를 이용하여 figure 내에 좌표축에 대한 표현 가능"
      ]
    },
    {
      "cell_type": "code",
      "metadata": {
        "colab": {
          "base_uri": "https://localhost:8080/"
        },
        "id": "C3lPgxcKGxCN",
        "outputId": "b41f55f9-d2f4-4819-d606-69bdec290524"
      },
      "source": [
        "# 학습된 모형으로 test 그림이 각 범주에 속할 확률 출력\n",
        "\n",
        "X_new = X_test[:3] # 첫 세 개의 test 데이터\n",
        "y_proba = model.predict(X_new)\n",
        "y_proba.round(2) # 소수 둘 째자리까지 표시 (반올림하여)"
      ],
      "execution_count": 25,
      "outputs": [
        {
          "output_type": "execute_result",
          "data": {
            "text/plain": [
              "array([[0.  , 0.  , 0.  , 0.  , 0.  , 0.  , 0.  , 0.01, 0.  , 0.99],\n",
              "       [0.  , 0.  , 1.  , 0.  , 0.  , 0.  , 0.  , 0.  , 0.  , 0.  ],\n",
              "       [0.  , 1.  , 0.  , 0.  , 0.  , 0.  , 0.  , 0.  , 0.  , 0.  ]],\n",
              "      dtype=float32)"
            ]
          },
          "metadata": {
            "tags": []
          },
          "execution_count": 25
        }
      ]
    },
    {
      "cell_type": "markdown",
      "metadata": {
        "id": "INL9ylXJ1Hfd"
      },
      "source": [
        "위 결과는 한 행이 하나의 결과입니다. 첫 번째 test 데이터가 각 분류에 속할 확률을 각 분류 위치에 소수 둘째자리의 확률을 나타내고 있습니다.\n",
        "\n",
        "\n",
        "---\n",
        "\n"
      ]
    },
    {
      "cell_type": "code",
      "metadata": {
        "colab": {
          "base_uri": "https://localhost:8080/"
        },
        "id": "LDPczq1MG3Y5",
        "outputId": "ed3948a6-3497-4778-8758-b3e764a3eee3"
      },
      "source": [
        "# 학습된 모형으로 새로운 그림의 범주 예측하기\n",
        "bigs = np.argmax(y_proba, axis=1)  # axis가 -1인 것은 reverse indexing으로써 \n",
        "                                   # 가장 마지막 차원을 axis로 (지금의 경우엔 1)\n",
        "print(bigs)"
      ],
      "execution_count": 28,
      "outputs": [
        {
          "output_type": "stream",
          "text": [
            "[9 2 1]\n"
          ],
          "name": "stdout"
        }
      ]
    },
    {
      "cell_type": "markdown",
      "metadata": {
        "id": "PS7t7_Ms2W7Z"
      },
      "source": [
        "np.argmax: \n",
        "- 최대값이 있는 데이터의 위치 (index 번호)\n",
        "- [참조](https://firework-ham.tistory.com/42)\n",
        "\n",
        "\n",
        "\n",
        "---\n",
        "\n"
      ]
    },
    {
      "cell_type": "code",
      "metadata": {
        "colab": {
          "base_uri": "https://localhost:8080/"
        },
        "id": "BDrT4Rb63pjy",
        "outputId": "88b7743a-7238-41a0-a94d-cfcab7d207e7"
      },
      "source": [
        "# 실험1\n",
        "\n",
        "# tmp에 있는 데이터 중에 index 1와 3, 4의 값 출력! \n",
        "tmp = np.array([1, 2, 3, 4, 5])\n",
        "idx = np.array([1, 3, 4])\n",
        "print(tmp[idx])"
      ],
      "execution_count": 34,
      "outputs": [
        {
          "output_type": "stream",
          "text": [
            "[2 4 5]\n"
          ],
          "name": "stdout"
        }
      ]
    },
    {
      "cell_type": "code",
      "metadata": {
        "colab": {
          "base_uri": "https://localhost:8080/"
        },
        "id": "unOnM5pDG7cw",
        "outputId": "40e3a96b-55ac-4e10-9bf6-8459b3ee59ee"
      },
      "source": [
        "import numpy as np\n",
        "\n",
        "# 우리가 구한 bigs의 분류 결과값 (우린 세 개의 test 데이터를 추론함)\n",
        "# 위 실험1을 사용한 numpy 문법\n",
        "np.array(class_names)[bigs]"
      ],
      "execution_count": 29,
      "outputs": [
        {
          "output_type": "execute_result",
          "data": {
            "text/plain": [
              "array(['Ankle boot', 'Pullover', 'Trouser'], dtype='<U11')"
            ]
          },
          "metadata": {
            "tags": []
          },
          "execution_count": 29
        }
      ]
    },
    {
      "cell_type": "markdown",
      "metadata": {
        "id": "tAy9tnVR7Dw0"
      },
      "source": [
        "class_names는 리스트인데, 이것을 np.array로 만든 후에 이에 대한 인덱스들 (bigs)로 출력시킴\n",
        "\n",
        "\n",
        "---\n",
        "\n"
      ]
    },
    {
      "cell_type": "code",
      "metadata": {
        "colab": {
          "base_uri": "https://localhost:8080/"
        },
        "id": "elOOhgoDHBTx",
        "outputId": "da4bbe49-ad0e-40f3-823f-c15e9a68cd03"
      },
      "source": [
        "# 우리가 구한 예측값을 실제 target과 비교\n",
        "\n",
        "y_new = y_test[:3]\n",
        "y_new"
      ],
      "execution_count": 35,
      "outputs": [
        {
          "output_type": "execute_result",
          "data": {
            "text/plain": [
              "array([9, 2, 1], dtype=uint8)"
            ]
          },
          "metadata": {
            "tags": []
          },
          "execution_count": 35
        }
      ]
    },
    {
      "cell_type": "code",
      "metadata": {
        "colab": {
          "base_uri": "https://localhost:8080/"
        },
        "id": "DZT7UFfpBU2o",
        "outputId": "4640a2b6-b1d1-4272-e4b3-530b0ab9c5ed"
      },
      "source": [
        "# 테스트용 데이터에서의 정분류율 출력하기 (test set으로 성능 평가)\n",
        "\n",
        "model.evaluate(X_test, y_test)"
      ],
      "execution_count": 36,
      "outputs": [
        {
          "output_type": "stream",
          "text": [
            "313/313 [==============================] - 0s 1ms/step - loss: 0.3216 - accuracy: 0.8852\n"
          ],
          "name": "stdout"
        },
        {
          "output_type": "execute_result",
          "data": {
            "text/plain": [
              "[0.32157742977142334, 0.885200023651123]"
            ]
          },
          "metadata": {
            "tags": []
          },
          "execution_count": 36
        }
      ]
    },
    {
      "cell_type": "code",
      "metadata": {
        "id": "Uo67BLzGEuu-"
      },
      "source": [
        "# 학습된 모형 저장\n",
        "\n",
        "model.save(\"my_keras_model.h5\")"
      ],
      "execution_count": 37,
      "outputs": []
    },
    {
      "cell_type": "code",
      "metadata": {
        "id": "KoP165d8E3Lp"
      },
      "source": [
        "# 저장된 모형 로딩\n",
        "\n",
        "model = keras.models.load_model(\"my_keras_model.h5\")"
      ],
      "execution_count": 38,
      "outputs": []
    },
    {
      "cell_type": "markdown",
      "metadata": {
        "id": "J0847X2ZCUhl"
      },
      "source": [
        "## 4. California Housing Price 데이터셋에 신경망 모형 적용하여 회귀분석하기"
      ]
    },
    {
      "cell_type": "code",
      "metadata": {
        "id": "lB0G-N2dIFYc"
      },
      "source": [
        "# 데이터셋 로딩, 데이터셋 분리, 데이터 정규화에 필요한 패키지 로딩하기\n",
        "\n",
        "from sklearn.datasets import fetch_california_housing\n",
        "from sklearn.model_selection import train_test_split\n",
        "from sklearn.preprocessing import StandardScaler"
      ],
      "execution_count": 40,
      "outputs": []
    },
    {
      "cell_type": "code",
      "metadata": {
        "id": "xNiwuefSKe1j",
        "colab": {
          "base_uri": "https://localhost:8080/"
        },
        "outputId": "4619deec-158b-4d6b-e78b-8768255db1f7"
      },
      "source": [
        "# 데이터셋 로딩하기\n",
        "housing = fetch_california_housing()"
      ],
      "execution_count": 41,
      "outputs": [
        {
          "output_type": "stream",
          "text": [
            "Downloading Cal. housing from https://ndownloader.figshare.com/files/5976036 to /root/scikit_learn_data\n"
          ],
          "name": "stderr"
        }
      ]
    },
    {
      "cell_type": "markdown",
      "metadata": {
        "id": "lfhbfbSw60vs"
      },
      "source": [
        "캘리포니아 부동산 가격 데이터 셋은 scikit-learn 패키지에서 다운로드 받을 수도 있어요.\n",
        "이전 과제에서는 kaggle에서 받은 것입니다.\n",
        "\n",
        "\n",
        "---\n",
        "\n"
      ]
    },
    {
      "cell_type": "code",
      "metadata": {
        "colab": {
          "base_uri": "https://localhost:8080/"
        },
        "id": "__cbIS__7T34",
        "outputId": "f1a018f7-4ee6-4c37-df94-00c64cf124f8"
      },
      "source": [
        "print(list(housing))"
      ],
      "execution_count": 47,
      "outputs": [
        {
          "output_type": "stream",
          "text": [
            "['data', 'target', 'feature_names', 'DESCR']\n"
          ],
          "name": "stdout"
        }
      ]
    },
    {
      "cell_type": "markdown",
      "metadata": {
        "id": "vFaoh8Ro7Yal"
      },
      "source": [
        "이것은 pandas로 읽어온 데이터가 아니기 때문에 info() 같은 것을 사용할 수 없어요.\n",
        "\n",
        "\n",
        "---\n",
        "\n"
      ]
    },
    {
      "cell_type": "code",
      "metadata": {
        "colab": {
          "base_uri": "https://localhost:8080/"
        },
        "id": "DCn27oGZ8HEY",
        "outputId": "2c203974-d433-4456-e129-390ce4588d33"
      },
      "source": [
        "print(housing.DESCR)"
      ],
      "execution_count": 48,
      "outputs": [
        {
          "output_type": "stream",
          "text": [
            ".. _california_housing_dataset:\n",
            "\n",
            "California Housing dataset\n",
            "--------------------------\n",
            "\n",
            "**Data Set Characteristics:**\n",
            "\n",
            "    :Number of Instances: 20640\n",
            "\n",
            "    :Number of Attributes: 8 numeric, predictive attributes and the target\n",
            "\n",
            "    :Attribute Information:\n",
            "        - MedInc        median income in block\n",
            "        - HouseAge      median house age in block\n",
            "        - AveRooms      average number of rooms\n",
            "        - AveBedrms     average number of bedrooms\n",
            "        - Population    block population\n",
            "        - AveOccup      average house occupancy\n",
            "        - Latitude      house block latitude\n",
            "        - Longitude     house block longitude\n",
            "\n",
            "    :Missing Attribute Values: None\n",
            "\n",
            "This dataset was obtained from the StatLib repository.\n",
            "http://lib.stat.cmu.edu/datasets/\n",
            "\n",
            "The target variable is the median house value for California districts.\n",
            "\n",
            "This dataset was derived from the 1990 U.S. census, using one row per census\n",
            "block group. A block group is the smallest geographical unit for which the U.S.\n",
            "Census Bureau publishes sample data (a block group typically has a population\n",
            "of 600 to 3,000 people).\n",
            "\n",
            "It can be downloaded/loaded using the\n",
            ":func:`sklearn.datasets.fetch_california_housing` function.\n",
            "\n",
            ".. topic:: References\n",
            "\n",
            "    - Pace, R. Kelley and Ronald Barry, Sparse Spatial Autoregressions,\n",
            "      Statistics and Probability Letters, 33 (1997) 291-297\n",
            "\n"
          ],
          "name": "stdout"
        }
      ]
    },
    {
      "cell_type": "markdown",
      "metadata": {
        "id": "Opz43Nug8Rx1"
      },
      "source": [
        "Kaggle에서 가져온 데이터와는 달리, 이 데이터 셋에는 ocean_proximity feature가 없고 missing data도 없습니다. 오직 데이터 정규화만 필요한 상황입니다.\n",
        "\n",
        "\n",
        "---\n",
        "\n"
      ]
    },
    {
      "cell_type": "code",
      "metadata": {
        "colab": {
          "base_uri": "https://localhost:8080/"
        },
        "id": "2Uwes_u6-qdf",
        "outputId": "671f00f6-576c-49b1-f5b1-6d6c571991db"
      },
      "source": [
        "housing.data.shape      # kaggle에서 가져온 것의 1/10 크기"
      ],
      "execution_count": 59,
      "outputs": [
        {
          "output_type": "execute_result",
          "data": {
            "text/plain": [
              "(20640, 8)"
            ]
          },
          "metadata": {
            "tags": []
          },
          "execution_count": 59
        }
      ]
    },
    {
      "cell_type": "code",
      "metadata": {
        "id": "lvzgNH9XKh8P"
      },
      "source": [
        "# 데이터를 학습용 데이터와 테스트용 데이터로 나누기\n",
        "# 학습용 데이터를 다시 학습용 데이터와 검증용 데이터로 나누기\n",
        "# test_size를 지정하지 않으면, default로 0.25를 가짐\n",
        "\n",
        "X_train_full, X_test, y_train_full, y_test = train_test_split(housing.data, \n",
        "                                                              housing.target)\n",
        "X_train, X_valid, y_train, y_valid = train_test_split(X_train_full, \n",
        "                                                      y_train_full)"
      ],
      "execution_count": 42,
      "outputs": []
    },
    {
      "cell_type": "code",
      "metadata": {
        "colab": {
          "base_uri": "https://localhost:8080/"
        },
        "id": "hX0ZgUnE7qlJ",
        "outputId": "f7b36d1f-5fa9-4c4a-f071-ef8cd6945b49"
      },
      "source": [
        "X_train.shape   # 20640 * 0.75 * 0.75"
      ],
      "execution_count": 46,
      "outputs": [
        {
          "output_type": "execute_result",
          "data": {
            "text/plain": [
              "(11610, 8)"
            ]
          },
          "metadata": {
            "tags": []
          },
          "execution_count": 46
        }
      ]
    },
    {
      "cell_type": "code",
      "metadata": {
        "id": "-1N0NjBWKuug"
      },
      "source": [
        "# 데이터 정규화 하기\n",
        "\n",
        "scaler = StandardScaler()\n",
        "X_train = scaler.fit_transform(X_train)\n",
        "X_valid = scaler.transform(X_valid)\n",
        "X_test = scaler.transform(X_test)"
      ],
      "execution_count": 49,
      "outputs": []
    },
    {
      "cell_type": "code",
      "metadata": {
        "colab": {
          "base_uri": "https://localhost:8080/"
        },
        "id": "2zfSHTr49Aki",
        "outputId": "eb5ab4ad-d87c-4391-f28b-366dd6a27257"
      },
      "source": [
        "# 실험1\n",
        "print(X_train.shape)\n",
        "print(X_train.shape[1])\n",
        "print(X_train.shape[1:])"
      ],
      "execution_count": 54,
      "outputs": [
        {
          "output_type": "stream",
          "text": [
            "(11610, 8)\n",
            "8\n",
            "(8,)\n"
          ],
          "name": "stdout"
        }
      ]
    },
    {
      "cell_type": "code",
      "metadata": {
        "id": "CIZCGdw-Lkuv"
      },
      "source": [
        "# keras 의 Sequential API 를 활용하여 신경망 모형의 골격 만들기 \n",
        "# 은닉층이 1개이며 뉴런이 30개 인 골격 만들기\n",
        "# 활성함수는 relu 사용\n",
        "# practice2 첫 모델과는 달리 한 번에 Sequential()로 만드는 방법\n",
        "\n",
        "model = keras.models.Sequential([\n",
        "  keras.layers.Dense(30, activation=\"relu\", input_shape=X_train.shape[1:]),\n",
        "  keras.layers.Dense(1) # 출력층은 단순 값이 나오도록, 활성 함수 불필요\n",
        "])"
      ],
      "execution_count": 55,
      "outputs": []
    },
    {
      "cell_type": "code",
      "metadata": {
        "colab": {
          "base_uri": "https://localhost:8080/"
        },
        "id": "OgbdZLcH-C8f",
        "outputId": "d6ab9180-3897-4b2a-8d4b-0ca05e7cd097"
      },
      "source": [
        "model.summary()"
      ],
      "execution_count": 56,
      "outputs": [
        {
          "output_type": "stream",
          "text": [
            "Model: \"sequential_1\"\n",
            "_________________________________________________________________\n",
            "Layer (type)                 Output Shape              Param #   \n",
            "=================================================================\n",
            "dense_3 (Dense)              (None, 30)                270       \n",
            "_________________________________________________________________\n",
            "dense_4 (Dense)              (None, 1)                 31        \n",
            "=================================================================\n",
            "Total params: 301\n",
            "Trainable params: 301\n",
            "Non-trainable params: 0\n",
            "_________________________________________________________________\n"
          ],
          "name": "stdout"
        }
      ]
    },
    {
      "cell_type": "code",
      "metadata": {
        "id": "IcmCBEBlOAYX"
      },
      "source": [
        "#모형 컴파일하기(손실함수, 최적화 방법 지정)\n",
        "\n",
        "model.compile(loss=\"mean_squared_error\", optimizer=\"sgd\")\n"
      ],
      "execution_count": 57,
      "outputs": []
    },
    {
      "cell_type": "code",
      "metadata": {
        "colab": {
          "base_uri": "https://localhost:8080/"
        },
        "id": "mEwMaKgYD-J2",
        "outputId": "7da21257-6b1d-4474-9741-d2a0d1d697ca"
      },
      "source": [
        "# Epoch 개수를 20개로 설정하여 모형 학습\n",
        "\n",
        "history=model.fit(X_train, y_train, epochs=20, validation_data=(X_valid, y_valid))"
      ],
      "execution_count": 58,
      "outputs": [
        {
          "output_type": "stream",
          "text": [
            "Epoch 1/20\n",
            "363/363 [==============================] - 1s 2ms/step - loss: 1.5282 - val_loss: 0.5391\n",
            "Epoch 2/20\n",
            "363/363 [==============================] - 1s 2ms/step - loss: 0.6131 - val_loss: 0.4678\n",
            "Epoch 3/20\n",
            "363/363 [==============================] - 1s 2ms/step - loss: 0.4897 - val_loss: 0.4456\n",
            "Epoch 4/20\n",
            "363/363 [==============================] - 1s 2ms/step - loss: 0.4689 - val_loss: 0.4379\n",
            "Epoch 5/20\n",
            "363/363 [==============================] - 1s 2ms/step - loss: 0.4648 - val_loss: 0.4281\n",
            "Epoch 6/20\n",
            "363/363 [==============================] - 1s 2ms/step - loss: 0.4329 - val_loss: 0.4233\n",
            "Epoch 7/20\n",
            "363/363 [==============================] - 1s 2ms/step - loss: 0.4330 - val_loss: 0.4158\n",
            "Epoch 8/20\n",
            "363/363 [==============================] - 1s 2ms/step - loss: 0.4242 - val_loss: 0.4145\n",
            "Epoch 9/20\n",
            "363/363 [==============================] - 1s 2ms/step - loss: 0.4463 - val_loss: 0.4011\n",
            "Epoch 10/20\n",
            "363/363 [==============================] - 1s 2ms/step - loss: 0.4086 - val_loss: 0.3997\n",
            "Epoch 11/20\n",
            "363/363 [==============================] - 1s 2ms/step - loss: 0.4168 - val_loss: 0.3983\n",
            "Epoch 12/20\n",
            "363/363 [==============================] - 1s 2ms/step - loss: 0.4110 - val_loss: 0.3913\n",
            "Epoch 13/20\n",
            "363/363 [==============================] - 1s 2ms/step - loss: 0.4056 - val_loss: 0.3850\n",
            "Epoch 14/20\n",
            "363/363 [==============================] - 1s 2ms/step - loss: 0.3944 - val_loss: 0.3887\n",
            "Epoch 15/20\n",
            "363/363 [==============================] - 1s 2ms/step - loss: 0.4057 - val_loss: 0.3837\n",
            "Epoch 16/20\n",
            "363/363 [==============================] - 1s 2ms/step - loss: 0.3818 - val_loss: 0.3730\n",
            "Epoch 17/20\n",
            "363/363 [==============================] - 1s 2ms/step - loss: 0.3975 - val_loss: 0.3791\n",
            "Epoch 18/20\n",
            "363/363 [==============================] - 1s 2ms/step - loss: 0.3914 - val_loss: 0.3781\n",
            "Epoch 19/20\n",
            "363/363 [==============================] - 1s 2ms/step - loss: 0.3745 - val_loss: 0.3682\n",
            "Epoch 20/20\n",
            "363/363 [==============================] - 1s 2ms/step - loss: 0.3912 - val_loss: 0.3683\n"
          ],
          "name": "stdout"
        }
      ]
    },
    {
      "cell_type": "code",
      "metadata": {
        "colab": {
          "base_uri": "https://localhost:8080/",
          "height": 320
        },
        "id": "zQTjDXtRO7M5",
        "outputId": "ae64fd4e-2bfd-42b7-ce10-4d35e804ee59"
      },
      "source": [
        "# 학습결과 확인하기\n",
        "\n",
        "pd.DataFrame(history.history).plot(figsize=(8,5))\n",
        "plt.grid(True)"
      ],
      "execution_count": 60,
      "outputs": [
        {
          "output_type": "display_data",
          "data": {
            "image/png": "[encoded data removed]",
            "text/plain": [
              "<Figure size 576x360 with 1 Axes>"
            ]
          },
          "metadata": {
            "tags": [],
            "needs_background": "light"
          }
        }
      ]
    },
    {
      "cell_type": "code",
      "metadata": {
        "colab": {
          "base_uri": "https://localhost:8080/"
        },
        "id": "h9nthLLZPCOm",
        "outputId": "c2971799-750a-4cbd-a19c-da59f44682ae"
      },
      "source": [
        "mse_test = model.evaluate(X_test,y_test)"
      ],
      "execution_count": 61,
      "outputs": [
        {
          "output_type": "stream",
          "text": [
            "162/162 [==============================] - 0s 1ms/step - loss: 0.4035\n"
          ],
          "name": "stdout"
        }
      ]
    },
    {
      "cell_type": "code",
      "metadata": {
        "id": "19WB2kgnPHoO"
      },
      "source": [
        "# test의 첫 세 개의 데이터\n",
        "X_new = X_test[:3]"
      ],
      "execution_count": 68,
      "outputs": []
    },
    {
      "cell_type": "code",
      "metadata": {
        "id": "oXrb4IRbPN3H"
      },
      "source": [
        "# test 데이터의 예측값은?\n",
        "y_pred = model.predict(X_new)"
      ],
      "execution_count": 69,
      "outputs": []
    },
    {
      "cell_type": "code",
      "metadata": {
        "colab": {
          "base_uri": "https://localhost:8080/"
        },
        "id": "UmnwYzg8PQCe",
        "outputId": "5323ced9-3697-4168-9d67-03f7ff13174a"
      },
      "source": [
        "# 값 출력 (단 정규화된 값임에 유의)\n",
        "y_pred"
      ],
      "execution_count": 70,
      "outputs": [
        {
          "output_type": "execute_result",
          "data": {
            "text/plain": [
              "array([[0.9884351],\n",
              "       [1.850771 ],\n",
              "       [2.03717  ]], dtype=float32)"
            ]
          },
          "metadata": {
            "tags": []
          },
          "execution_count": 70
        }
      ]
    },
    {
      "cell_type": "code",
      "metadata": {
        "colab": {
          "base_uri": "https://localhost:8080/"
        },
        "id": "IHC7y9KgPReO",
        "outputId": "f9f65c87-5aa0-47f9-a412-fdc2af60d2b0"
      },
      "source": [
        "# 실제 target 값\n",
        "y_test[:3]"
      ],
      "execution_count": 71,
      "outputs": [
        {
          "output_type": "execute_result",
          "data": {
            "text/plain": [
              "array([0.55 , 1.755, 1.113])"
            ]
          },
          "metadata": {
            "tags": []
          },
          "execution_count": 71
        }
      ]
    },
    {
      "cell_type": "markdown",
      "metadata": {
        "id": "a3yvWkP053YT"
      },
      "source": [
        "## 5. **심화** : Functional API 이용하여 복잡한 모형 만들기"
      ]
    },
    {
      "cell_type": "markdown",
      "metadata": {
        "id": "bv0j5JdN7vJt"
      },
      "source": [
        "### 5.1 예제 1"
      ]
    },
    {
      "cell_type": "code",
      "metadata": {
        "id": "_eIGV7mc5_GV"
      },
      "source": [
        "# keras 의 Functional API 를 활용하여 신경망 모형의 골격 만들기 \n",
        "\n",
        "input_= keras.layers.Input(shape=X_train.shape[1:])\n",
        "hidden1 = keras.layers.Dense(30, activation=\"relu\")(input_)\n",
        "hidden2 = keras.layers.Dense(30, activation=\"relu\")(hidden1)\n",
        "concat = keras.layers.Concatenate()([input_,hidden2])\n",
        "output = keras.layers.Dense(1)(concat)\n",
        "\n",
        "model = keras.Model(inputs=[input_], outputs=[output])"
      ],
      "execution_count": 72,
      "outputs": []
    },
    {
      "cell_type": "code",
      "metadata": {
        "colab": {
          "base_uri": "https://localhost:8080/",
          "height": 466
        },
        "id": "0ACvoJ6z7nIB",
        "outputId": "965140cb-f871-42f8-e273-b44a065d0d57"
      },
      "source": [
        "# 모형 도식화 하기\n",
        "\n",
        "tf.keras.utils.plot_model(model, \"my_first_model.png\") # 파일이 만들어 집니다"
      ],
      "execution_count": 73,
      "outputs": [
        {
          "output_type": "execute_result",
          "data": {
            "image/png": "[encoded data removed]",
            "text/plain": [
              "<IPython.core.display.Image object>"
            ]
          },
          "metadata": {
            "tags": []
          },
          "execution_count": 73
        }
      ]
    },
    {
      "cell_type": "code",
      "metadata": {
        "id": "lKJJ8q147S7y"
      },
      "source": [
        "# 모형 컴파일 (손실함수, 최적화 방법 지정)\n",
        "\n",
        "model.compile(loss=\"mean_squared_error\", optimizer=\"sgd\")\n"
      ],
      "execution_count": 74,
      "outputs": []
    },
    {
      "cell_type": "code",
      "metadata": {
        "colab": {
          "base_uri": "https://localhost:8080/"
        },
        "id": "ykXiciy67aH5",
        "outputId": "ceb31b05-1501-48c5-fd74-3d0e416f83b5"
      },
      "source": [
        "# Epoch 개수를 20개로 설정하여 모형 학습\n",
        "\n",
        "history=model.fit(X_train, y_train, epochs=20, \n",
        "                  validation_data=(X_valid, y_valid))"
      ],
      "execution_count": 75,
      "outputs": [
        {
          "output_type": "stream",
          "text": [
            "Epoch 1/20\n",
            "363/363 [==============================] - 2s 2ms/step - loss: 1.3662 - val_loss: 0.5781\n",
            "Epoch 2/20\n",
            "363/363 [==============================] - 1s 2ms/step - loss: 0.5823 - val_loss: 0.4827\n",
            "Epoch 3/20\n",
            "363/363 [==============================] - 1s 2ms/step - loss: 0.4795 - val_loss: 0.4657\n",
            "Epoch 4/20\n",
            "363/363 [==============================] - 1s 2ms/step - loss: 0.4716 - val_loss: 0.4404\n",
            "Epoch 5/20\n",
            "363/363 [==============================] - 1s 2ms/step - loss: 0.4363 - val_loss: 0.4231\n",
            "Epoch 6/20\n",
            "363/363 [==============================] - 1s 2ms/step - loss: 0.4296 - val_loss: 0.4284\n",
            "Epoch 7/20\n",
            "363/363 [==============================] - 1s 2ms/step - loss: 0.4264 - val_loss: 0.4014\n",
            "Epoch 8/20\n",
            "363/363 [==============================] - 1s 2ms/step - loss: 0.4152 - val_loss: 0.3814\n",
            "Epoch 9/20\n",
            "363/363 [==============================] - 1s 2ms/step - loss: 0.3959 - val_loss: 0.3811\n",
            "Epoch 10/20\n",
            "363/363 [==============================] - 1s 2ms/step - loss: 0.4031 - val_loss: 0.3699\n",
            "Epoch 11/20\n",
            "363/363 [==============================] - 1s 2ms/step - loss: 0.3827 - val_loss: 0.3770\n",
            "Epoch 12/20\n",
            "363/363 [==============================] - 1s 2ms/step - loss: 0.3820 - val_loss: 0.3563\n",
            "Epoch 13/20\n",
            "363/363 [==============================] - 1s 2ms/step - loss: 0.3816 - val_loss: 0.3647\n",
            "Epoch 14/20\n",
            "363/363 [==============================] - 1s 2ms/step - loss: 0.3659 - val_loss: 0.3471\n",
            "Epoch 15/20\n",
            "363/363 [==============================] - 1s 2ms/step - loss: 0.3532 - val_loss: 0.3419\n",
            "Epoch 16/20\n",
            "363/363 [==============================] - 1s 2ms/step - loss: 0.3485 - val_loss: 0.3357\n",
            "Epoch 17/20\n",
            "363/363 [==============================] - 1s 2ms/step - loss: 0.3619 - val_loss: 0.3520\n",
            "Epoch 18/20\n",
            "363/363 [==============================] - 1s 2ms/step - loss: 0.3715 - val_loss: 0.3523\n",
            "Epoch 19/20\n",
            "363/363 [==============================] - 1s 2ms/step - loss: 0.3457 - val_loss: 0.3416\n",
            "Epoch 20/20\n",
            "363/363 [==============================] - 1s 2ms/step - loss: 1.0317 - val_loss: 0.3267\n"
          ],
          "name": "stdout"
        }
      ]
    },
    {
      "cell_type": "markdown",
      "metadata": {
        "id": "IhL1uzPM72OY"
      },
      "source": [
        "### 5.2 예제 2"
      ]
    },
    {
      "cell_type": "code",
      "metadata": {
        "id": "2A8mI7Xx74bR"
      },
      "source": [
        "# keras 의 Functional API 를 활용하여 신경망 모형의 골격 만들기\n",
        "\n",
        "input_A = keras.layers.Input(shape=(5,), name=\"wide input\") # 5개 입력 데이터\n",
        "input_B = keras.layers.Input(shape=(6,), name=\"deep input\") # 6개 입력 데이터\n",
        "hidden1=keras.layers.Dense(30, activation=\"relu\")(input_B)\n",
        "hidden2=keras.layers.Dense(30, activation=\"relu\")(hidden1)\n",
        "concat=keras.layers.concatenate([input_A, hidden2])\n",
        "output=keras.layers.Dense(1, name=\"output\")(concat)\n",
        "\n",
        "model=keras.Model(inputs=[input_A, input_B], outputs=[output])"
      ],
      "execution_count": 76,
      "outputs": []
    },
    {
      "cell_type": "code",
      "metadata": {
        "colab": {
          "base_uri": "https://localhost:8080/",
          "height": 466
        },
        "id": "0BiX8X1p8l2P",
        "outputId": "627bac98-1726-43c1-d3de-063d058424f4"
      },
      "source": [
        "#모형 도식화 하기\n",
        "\n",
        "tf.keras.utils.plot_model(model, \"my_second_model.png\")"
      ],
      "execution_count": 77,
      "outputs": [
        {
          "output_type": "execute_result",
          "data": {
            "image/png": "[encoded data removed]",
            "text/plain": [
              "<IPython.core.display.Image object>"
            ]
          },
          "metadata": {
            "tags": []
          },
          "execution_count": 77
        }
      ]
    },
    {
      "cell_type": "code",
      "metadata": {
        "id": "n97F0jGK8paR"
      },
      "source": [
        "# 모형 컴파일 (손실함수, 최적화 방법 지정)\n",
        "\n",
        "model.compile(loss=\"mean_squared_error\", optimizer=\"sgd\")"
      ],
      "execution_count": 78,
      "outputs": []
    },
    {
      "cell_type": "code",
      "metadata": {
        "colab": {
          "base_uri": "https://localhost:8080/"
        },
        "id": "ACM2Nw__80jG",
        "outputId": "189aa34b-6bb6-4498-f8b7-915c8c1edb6d"
      },
      "source": [
        "# Epoch 개수를 20개로 설정하여 모형 학습\n",
        "\n",
        "# A입력: 0~4열, B입력: 2~7열\n",
        "X_train_A, X_train_B = X_train[:, :5], X_train[:, 2:] \n",
        "X_valid_A, X_valid_B = X_valid[:, :5], X_valid[:, 2:]\n",
        "history = model.fit((X_train_A, X_train_B), y_train, epochs=20, \n",
        "                  validation_data=((X_valid_A, X_valid_B), y_valid))"
      ],
      "execution_count": 79,
      "outputs": [
        {
          "output_type": "stream",
          "text": [
            "Epoch 1/20\n",
            "363/363 [==============================] - 1s 2ms/step - loss: 2.2605 - val_loss: 0.5296\n",
            "Epoch 2/20\n",
            "363/363 [==============================] - 1s 2ms/step - loss: 0.5357 - val_loss: 0.4623\n",
            "Epoch 3/20\n",
            "363/363 [==============================] - 1s 2ms/step - loss: 0.4671 - val_loss: 0.4281\n",
            "Epoch 4/20\n",
            "363/363 [==============================] - 1s 2ms/step - loss: 0.4318 - val_loss: 0.4151\n",
            "Epoch 5/20\n",
            "363/363 [==============================] - 1s 2ms/step - loss: 0.4247 - val_loss: 0.4126\n",
            "Epoch 6/20\n",
            "363/363 [==============================] - 1s 2ms/step - loss: 0.4251 - val_loss: 0.4016\n",
            "Epoch 7/20\n",
            "363/363 [==============================] - 1s 2ms/step - loss: 0.4134 - val_loss: 0.4019\n",
            "Epoch 8/20\n",
            "363/363 [==============================] - 1s 2ms/step - loss: 0.4176 - val_loss: 0.3911\n",
            "Epoch 9/20\n",
            "363/363 [==============================] - 1s 2ms/step - loss: 0.4090 - val_loss: 0.3829\n",
            "Epoch 10/20\n",
            "363/363 [==============================] - 1s 2ms/step - loss: 0.4053 - val_loss: 0.3769\n",
            "Epoch 11/20\n",
            "363/363 [==============================] - 1s 2ms/step - loss: 0.3912 - val_loss: 0.3795\n",
            "Epoch 12/20\n",
            "363/363 [==============================] - 1s 2ms/step - loss: 0.3995 - val_loss: 0.3712\n",
            "Epoch 13/20\n",
            "363/363 [==============================] - 1s 2ms/step - loss: 0.3950 - val_loss: 0.3700\n",
            "Epoch 14/20\n",
            "363/363 [==============================] - 1s 2ms/step - loss: 0.3680 - val_loss: 0.3634\n",
            "Epoch 15/20\n",
            "363/363 [==============================] - 1s 2ms/step - loss: 0.3789 - val_loss: 0.3579\n",
            "Epoch 16/20\n",
            "363/363 [==============================] - 1s 2ms/step - loss: 0.3649 - val_loss: 0.3543\n",
            "Epoch 17/20\n",
            "363/363 [==============================] - 1s 2ms/step - loss: 0.3618 - val_loss: 0.3440\n",
            "Epoch 18/20\n",
            "363/363 [==============================] - 1s 2ms/step - loss: 0.3636 - val_loss: 0.3461\n",
            "Epoch 19/20\n",
            "363/363 [==============================] - 1s 2ms/step - loss: 0.3417 - val_loss: 0.3396\n",
            "Epoch 20/20\n",
            "363/363 [==============================] - 1s 2ms/step - loss: 0.3654 - val_loss: 0.3654\n"
          ],
          "name": "stdout"
        }
      ]
    },
    {
      "cell_type": "markdown",
      "metadata": {
        "id": "EIZ-pqh1_WeF"
      },
      "source": [
        "### 5.3 예제 3: 다중 출력값 모형 만들기"
      ]
    },
    {
      "cell_type": "code",
      "metadata": {
        "id": "k2lMUTaS_byU"
      },
      "source": [
        "# keras 의 Functional API 를 활용하여 신경망 모형의 골격 만들기\n",
        "\n",
        "input_A = keras.layers.Input(shape=(5,), name=\"wide input\")\n",
        "input_B = keras.layers.Input(shape=(6,), name=\"deep input\")\n",
        "hidden1 = keras.layers.Dense(30, activation=\"relu\")(input_B)\n",
        "hidden2 = keras.layers.Dense(30, activation=\"relu\")(hidden1)\n",
        "concat = keras.layers.concatenate([input_A, hidden2])\n",
        "\n",
        "output = keras.layers.Dense(1, name=\"output\")(concat)\n",
        "aux_output=keras.layers.Dense(1, name=\"aux_output\")(hidden2)\n",
        "\n",
        "model=keras.Model(inputs=[input_A, input_B], outputs=[output, aux_output])"
      ],
      "execution_count": 85,
      "outputs": []
    },
    {
      "cell_type": "code",
      "metadata": {
        "colab": {
          "base_uri": "https://localhost:8080/",
          "height": 466
        },
        "id": "e-hE7Qok_ua0",
        "outputId": "65e03285-149e-41c7-e1a0-5025cce1cf27"
      },
      "source": [
        "# 모형 도식화 하기\n",
        "\n",
        "tf.keras.utils.plot_model(model, \"my_third_model.png\")"
      ],
      "execution_count": 86,
      "outputs": [
        {
          "output_type": "execute_result",
          "data": {
            "image/png": "[encoded data removed]",
            "text/plain": [
              "<IPython.core.display.Image object>"
            ]
          },
          "metadata": {
            "tags": []
          },
          "execution_count": 86
        }
      ]
    },
    {
      "cell_type": "code",
      "metadata": {
        "id": "TzgLMxsE_3Qn"
      },
      "source": [
        "# 모형 컴파일 (손실함수, 최적화 방법 지정)\n",
        "\n",
        "model.compile(loss=[\"mean_squared_error\",\"mean_squared_error\"], \n",
        "              loss_weights=[0.9, 0.1], optimizer=\"sgd\") # loss_weights는\n",
        "                                                        # 다중 출력의 가중치 부여"
      ],
      "execution_count": 87,
      "outputs": []
    },
    {
      "cell_type": "code",
      "metadata": {
        "colab": {
          "base_uri": "https://localhost:8080/"
        },
        "id": "9N3AyXHk_58W",
        "outputId": "2d053e3a-6313-450d-9fa6-39ea03f0fcec"
      },
      "source": [
        "# Epoch 개수를 20개로 설정하여 모형 학습\n",
        "\n",
        "X_train_A, X_train_B = X_train[:, :5], X_train[:, 2:]\n",
        "X_valid_A, X_valid_B = X_valid[:, :5], X_valid[:, 2:]\n",
        "\n",
        "history = model.fit((X_train_A, X_train_B), (y_train,y_train), epochs=20, \n",
        "                  validation_data=((X_valid_A, X_valid_B), (y_valid, y_valid)))"
      ],
      "execution_count": 88,
      "outputs": [
        {
          "output_type": "stream",
          "text": [
            "Epoch 1/20\n",
            "363/363 [==============================] - 2s 3ms/step - loss: 1.8844 - output_loss: 1.7103 - aux_output_loss: 3.4522 - val_loss: 0.5668 - val_output_loss: 0.5028 - val_aux_output_loss: 1.1434\n",
            "Epoch 2/20\n",
            "363/363 [==============================] - 1s 3ms/step - loss: 0.5729 - output_loss: 0.5132 - aux_output_loss: 1.1096 - val_loss: 0.5172 - val_output_loss: 0.4656 - val_aux_output_loss: 0.9817\n",
            "Epoch 3/20\n",
            "363/363 [==============================] - 1s 3ms/step - loss: 0.5328 - output_loss: 0.4875 - aux_output_loss: 0.9401 - val_loss: 0.5058 - val_output_loss: 0.4649 - val_aux_output_loss: 0.8740\n",
            "Epoch 4/20\n",
            "363/363 [==============================] - 1s 3ms/step - loss: 0.4921 - output_loss: 0.4532 - aux_output_loss: 0.8422 - val_loss: 0.4791 - val_output_loss: 0.4435 - val_aux_output_loss: 0.7994\n",
            "Epoch 5/20\n",
            "363/363 [==============================] - 1s 3ms/step - loss: 0.5005 - output_loss: 0.4704 - aux_output_loss: 0.7709 - val_loss: 0.4655 - val_output_loss: 0.4334 - val_aux_output_loss: 0.7539\n",
            "Epoch 6/20\n",
            "363/363 [==============================] - 1s 3ms/step - loss: 0.4762 - output_loss: 0.4484 - aux_output_loss: 0.7260 - val_loss: 0.4713 - val_output_loss: 0.4434 - val_aux_output_loss: 0.7223\n",
            "Epoch 7/20\n",
            "363/363 [==============================] - 1s 3ms/step - loss: 0.4992 - output_loss: 0.4746 - aux_output_loss: 0.7206 - val_loss: 0.4443 - val_output_loss: 0.4179 - val_aux_output_loss: 0.6819\n",
            "Epoch 8/20\n",
            "363/363 [==============================] - 1s 3ms/step - loss: 0.4495 - output_loss: 0.4259 - aux_output_loss: 0.6611 - val_loss: 0.4431 - val_output_loss: 0.4176 - val_aux_output_loss: 0.6732\n",
            "Epoch 9/20\n",
            "363/363 [==============================] - 1s 3ms/step - loss: 0.4484 - output_loss: 0.4258 - aux_output_loss: 0.6512 - val_loss: 0.4579 - val_output_loss: 0.4363 - val_aux_output_loss: 0.6527\n",
            "Epoch 10/20\n",
            "363/363 [==============================] - 1s 3ms/step - loss: 0.4485 - output_loss: 0.4269 - aux_output_loss: 0.6422 - val_loss: 0.4232 - val_output_loss: 0.3997 - val_aux_output_loss: 0.6346\n",
            "Epoch 11/20\n",
            "363/363 [==============================] - 1s 3ms/step - loss: 0.4486 - output_loss: 0.4288 - aux_output_loss: 0.6264 - val_loss: 0.4139 - val_output_loss: 0.3910 - val_aux_output_loss: 0.6197\n",
            "Epoch 12/20\n",
            "363/363 [==============================] - 1s 3ms/step - loss: 0.4252 - output_loss: 0.4056 - aux_output_loss: 0.6016 - val_loss: 0.4078 - val_output_loss: 0.3862 - val_aux_output_loss: 0.6026\n",
            "Epoch 13/20\n",
            "363/363 [==============================] - 1s 3ms/step - loss: 0.4103 - output_loss: 0.3910 - aux_output_loss: 0.5835 - val_loss: 0.4041 - val_output_loss: 0.3827 - val_aux_output_loss: 0.5967\n",
            "Epoch 14/20\n",
            "363/363 [==============================] - 1s 3ms/step - loss: 0.4038 - output_loss: 0.3839 - aux_output_loss: 0.5830 - val_loss: 0.3945 - val_output_loss: 0.3739 - val_aux_output_loss: 0.5798\n",
            "Epoch 15/20\n",
            "363/363 [==============================] - 1s 3ms/step - loss: 0.4284 - output_loss: 0.4092 - aux_output_loss: 0.6008 - val_loss: 0.3956 - val_output_loss: 0.3760 - val_aux_output_loss: 0.5715\n",
            "Epoch 16/20\n",
            "363/363 [==============================] - 1s 3ms/step - loss: 0.4220 - output_loss: 0.4058 - aux_output_loss: 0.5684 - val_loss: 0.3849 - val_output_loss: 0.3660 - val_aux_output_loss: 0.5553\n",
            "Epoch 17/20\n",
            "363/363 [==============================] - 1s 3ms/step - loss: 0.3956 - output_loss: 0.3790 - aux_output_loss: 0.5446 - val_loss: 0.3887 - val_output_loss: 0.3707 - val_aux_output_loss: 0.5509\n",
            "Epoch 18/20\n",
            "363/363 [==============================] - 1s 3ms/step - loss: 0.4096 - output_loss: 0.3938 - aux_output_loss: 0.5520 - val_loss: 0.3953 - val_output_loss: 0.3787 - val_aux_output_loss: 0.5453\n",
            "Epoch 19/20\n",
            "363/363 [==============================] - 1s 3ms/step - loss: 0.3838 - output_loss: 0.3679 - aux_output_loss: 0.5260 - val_loss: 0.3707 - val_output_loss: 0.3535 - val_aux_output_loss: 0.5256\n",
            "Epoch 20/20\n",
            "363/363 [==============================] - 1s 3ms/step - loss: 0.3855 - output_loss: 0.3696 - aux_output_loss: 0.5291 - val_loss: 0.3696 - val_output_loss: 0.3529 - val_aux_output_loss: 0.5199\n"
          ],
          "name": "stdout"
        }
      ]
    },
    {
      "cell_type": "code",
      "metadata": {
        "colab": {
          "base_uri": "https://localhost:8080/"
        },
        "id": "3rpI3Ff4AbMk",
        "outputId": "0c550cfc-6f39-4c59-a687-895ff1bcd9c9"
      },
      "source": [
        "# 학습 결과 확인하기 \n",
        "\n",
        "X_test_A, X_test_B = X_test[:, :5], X_test[:, 2:]\n",
        "\n",
        "total_loss, main_loss, aux_loss = model.evaluate([X_test_A, X_test_B], \n",
        "                                                 [y_test, y_test])"
      ],
      "execution_count": 89,
      "outputs": [
        {
          "output_type": "stream",
          "text": [
            "162/162 [==============================] - 0s 1ms/step - loss: 0.3911 - output_loss: 0.3772 - aux_output_loss: 0.5161\n"
          ],
          "name": "stdout"
        }
      ]
    },
    {
      "cell_type": "code",
      "metadata": {
        "id": "sKYs_CfBAyuz"
      },
      "source": [
        "# 첫 세 개의 test 데이터\n",
        "X_new_A = X_test[:3, :5]\n",
        "X_new_B = X_test[:3, 2:]\n",
        "\n",
        "y_pred_main, y_pred_aux = model.predict([X_new_A, X_new_B])"
      ],
      "execution_count": 91,
      "outputs": []
    },
    {
      "cell_type": "code",
      "metadata": {
        "colab": {
          "base_uri": "https://localhost:8080/"
        },
        "id": "QP9k40xmBais",
        "outputId": "f3041158-ffea-4931-bb8c-fdb4398ef541"
      },
      "source": [
        "print(y_pred_main)\n",
        "print(y_pred_aux)"
      ],
      "execution_count": 92,
      "outputs": [
        {
          "output_type": "stream",
          "text": [
            "[[0.67600566]\n",
            " [2.0567744 ]\n",
            " [1.6724155 ]]\n",
            "[[0.6621419]\n",
            " [2.198443 ]\n",
            " [1.4611018]]\n"
          ],
          "name": "stdout"
        }
      ]
    }
  ]
}
{
  "nbformat": 4,
  "nbformat_minor": 0,
  "metadata": {
    "colab": {
      "name": "n_day4_practice4_sol.ipynb",
      "provenance": [],
      "collapsed_sections": [],
      "toc_visible": true,
      "machine_shape": "hm"
    },
    "kernelspec": {
      "display_name": "Python 3",
      "language": "python",
      "name": "python3"
    },
    "language_info": {
      "codemirror_mode": {
        "name": "ipython",
        "version": 3
      },
      "file_extension": ".py",
      "mimetype": "text/x-python",
      "name": "python",
      "nbconvert_exporter": "python",
      "pygments_lexer": "ipython3",
      "version": "3.8.3"
    },
    "accelerator": "GPU"
  },
  "cells": [
    {
      "cell_type": "markdown",
      "metadata": {
        "id": "dk1W_sk12TRc"
      },
      "source": [
        "**해군사 AI 과정**\n",
        "\n",
        "Day 4: 딥러닝 기초 I (2021-06-03)\n",
        "\n",
        "User: 문영제\n",
        "\n",
        "실습 #4: 깊은 신경망 학습에 필요한 기술 익히기"
      ]
    },
    {
      "cell_type": "markdown",
      "metadata": {
        "id": "w0iDDmVbgnnI"
      },
      "source": [
        "아래 최적화 기법들은 API 구조만 알아두시면 됩니다. 이들은 깊은 신경망에 의미가 있습니다. (여기서 사용하는 샘플들은 깊은 신경망이 아니에요)\n",
        "- 추후에 깊은, 복잡한 신경망을 사용하실 때, 아래의 API들을 활용해 보세요."
      ]
    },
    {
      "cell_type": "code",
      "metadata": {
        "id": "JLvN_WS1--lA"
      },
      "source": [
        "# keras 라이브러리 가져오기\n",
        "\n",
        "import keras\n",
        "import tensorflow as tf"
      ],
      "execution_count": 1,
      "outputs": []
    },
    {
      "cell_type": "code",
      "metadata": {
        "id": "5w9C0Guw_dHh"
      },
      "source": [
        "# MNIST 패션 데이터 로딩하기\n",
        "\n",
        "fashion_mnist = tf.keras.datasets.fashion_mnist"
      ],
      "execution_count": 2,
      "outputs": []
    },
    {
      "cell_type": "code",
      "metadata": {
        "colab": {
          "base_uri": "https://localhost:8080/"
        },
        "id": "5THzsbWu_oAb",
        "outputId": "7330509e-413f-4c24-9ae1-72e502e24aa5"
      },
      "source": [
        "(X_train_full, y_train_full), (X_test, y_test) = fashion_mnist.load_data()"
      ],
      "execution_count": 3,
      "outputs": [
        {
          "output_type": "stream",
          "text": [
            "Downloading data from https://storage.googleapis.com/tensorflow/tf-keras-datasets/train-labels-idx1-ubyte.gz\n",
            "32768/29515 [=================================] - 0s 0us/step\n",
            "Downloading data from https://storage.googleapis.com/tensorflow/tf-keras-datasets/train-images-idx3-ubyte.gz\n",
            "26427392/26421880 [==============================] - 0s 0us/step\n",
            "Downloading data from https://storage.googleapis.com/tensorflow/tf-keras-datasets/t10k-labels-idx1-ubyte.gz\n",
            "8192/5148 [===============================================] - 0s 0us/step\n",
            "Downloading data from https://storage.googleapis.com/tensorflow/tf-keras-datasets/t10k-images-idx3-ubyte.gz\n",
            "4423680/4422102 [==============================] - 0s 0us/step\n"
          ],
          "name": "stdout"
        }
      ]
    },
    {
      "cell_type": "code",
      "metadata": {
        "id": "yVGIpeMgABS5"
      },
      "source": [
        "# target 의 각 숫자값에 해당하는 클래스 명 지정하기\n",
        "\n",
        "class_names=[\"T-shirt/top\", 'Trouser', 'Pullover', 'Dress', \"Coat\", \n",
        "             \"Sandal\", \"Shirt\", \"Sneaker\", \"Bag\", \"Ankle boot\"]"
      ],
      "execution_count": 4,
      "outputs": []
    },
    {
      "cell_type": "code",
      "metadata": {
        "id": "a70Q2VQJ_ziq"
      },
      "source": [
        "# 학습용 데이터를 다시 학습용 데이터와 검증용 데이터 (valdiation set) 으로 분리\n",
        "# 분리와 동시에 정규화\n",
        "\n",
        "X_valid, X_train = X_train_full[:5000]/255.0, X_train_full[5000:]/255.0\n",
        "y_valid, y_train = y_train_full[:5000], y_train_full[5000:]\n",
        "\n",
        "X_test = X_test / 255.0"
      ],
      "execution_count": 5,
      "outputs": []
    },
    {
      "cell_type": "markdown",
      "metadata": {
        "id": "YTYa0jX42-GF"
      },
      "source": [
        "## 1. 다양한 활성함수 사용해보기"
      ]
    },
    {
      "cell_type": "code",
      "metadata": {
        "id": "QKxXMaXDASBx"
      },
      "source": [
        "# keras 의 Sequential API 를 활용하여 신경망 모형의 골격 만들기 \n",
        "# 은닉층이 2개이며 첫번째 은닉층에 뉴런 300개, 두번째 은닉층에 뉴런 100개 인 골격 만들기\n",
        "### 새로운 활성함수 사용해보기 !! \n",
        "\n",
        "model=keras.models.Sequential()\n",
        "\n",
        "model.add(keras.layers.Flatten(input_shape=[28,28]))\n",
        "\n",
        "#model.add(keras.layers.Dense(300,activation=\"relu\"))   #1 ReLU\n",
        "#model.add(keras.layers.Dense(300))                     #2 None\n",
        "#model.add(keras.layers.LeakyReLU(alpha=0.2))           #3 LeakyReLU\n",
        "#model.add(keras.layers.Dense(300,activation=\"elu\"))    #4 ELU\n",
        "model.add(keras.layers.Dense(300,activation=\"selu\"))    #5 SELU\n",
        "\n",
        "model.add(keras.layers.Dense(100,activation=\"relu\"))\n",
        "\n",
        "model.add(keras.layers.Dense(10,activation=\"softmax\"))"
      ],
      "execution_count": 6,
      "outputs": []
    },
    {
      "cell_type": "code",
      "metadata": {
        "colab": {
          "base_uri": "https://localhost:8080/"
        },
        "id": "anR1jTNmCUml",
        "outputId": "2874b599-7cf8-45f6-f7e1-80f9c1a62e9d"
      },
      "source": [
        "model.summary()"
      ],
      "execution_count": 7,
      "outputs": [
        {
          "output_type": "stream",
          "text": [
            "Model: \"sequential\"\n",
            "_________________________________________________________________\n",
            "Layer (type)                 Output Shape              Param #   \n",
            "=================================================================\n",
            "flatten (Flatten)            (None, 784)               0         \n",
            "_________________________________________________________________\n",
            "dense (Dense)                (None, 300)               235500    \n",
            "_________________________________________________________________\n",
            "dense_1 (Dense)              (None, 100)               30100     \n",
            "_________________________________________________________________\n",
            "dense_2 (Dense)              (None, 10)                1010      \n",
            "=================================================================\n",
            "Total params: 266,610\n",
            "Trainable params: 266,610\n",
            "Non-trainable params: 0\n",
            "_________________________________________________________________\n"
          ],
          "name": "stdout"
        }
      ]
    },
    {
      "cell_type": "markdown",
      "metadata": {
        "id": "7O7I3dXS3Kfc"
      },
      "source": [
        "## 2. 다양한 최적화 방법 사용해보기"
      ]
    },
    {
      "cell_type": "code",
      "metadata": {
        "id": "mMCuI62aCuuZ"
      },
      "source": [
        "# 모형 컴파일하기 (손실함수, 최적화 방법 지정하기)\n",
        "### 다양한 최적화 방법 사용해보기 !\n",
        "\n",
        "#1 기본 경사하강법\n",
        "#lr_scheduler = learning_rate_schedule() # 이곳에 적절한 학습률 스케쥴링 기법 적용!\n",
        "#op = keras.optimizers.SGD(learning_rate=lr_scheduler)\n",
        "\n",
        "#2 모멘텀 경사하강법 (관성 이용)\n",
        "#op = keras.optimizers.SGD(learning_rate=0.01, momentum=0.9, nesterov=False)\n",
        "\n",
        "#3 NAG (관성 이용)\n",
        "#op = keras.optimizers.SGD(learning_rate=0.01, momentum=0.9, nesterov=True)\n",
        "\n",
        "#4 AdaGrad (적응형)\n",
        "'''\n",
        "op = keras.optimizers.Adagrad(learning_rate=0.001, epsilon=1e-07, \n",
        "                              initial_accumulator_value=0.1)'''\n",
        "\n",
        "#4 RMSprop (적응형)\n",
        "#op = keras.optimizers.RMSprop(learning_rate=0.01, rho=0.9, epsilon=1e-07)\n",
        "\n",
        "#5 AdaDelta (적응형)\n",
        "#op = keras.optimizers.Adadelta(learning_rate=0.01, rho=0.95, epsilon=1e-07)\n",
        "\n",
        "#6 Adam (혼합형)\n",
        "op = keras.optimizers.Adam(learning_rate=0.01, beta_1=0.9, beta_2=0.999, \n",
        "                           epsilon=1e-07)\n",
        "\n",
        "#7 NADAM (혼합형)\n",
        "'''op = keras.optimizers.Nadam(learning_rate=0.001, beta_1=0.9, beta_2=0.999, \n",
        "                            epsilon=1e-07)'''\n",
        "\n",
        "\n",
        "##############################################################################                            \n",
        "\n",
        "model.compile(loss=\"sparse_categorical_crossentropy\", optimizer=op, \n",
        "              metrics=[\"accuracy\"])\n"
      ],
      "execution_count": 9,
      "outputs": []
    },
    {
      "cell_type": "code",
      "metadata": {
        "colab": {
          "base_uri": "https://localhost:8080/"
        },
        "id": "9FF8L3GJFhhQ",
        "outputId": "6fa9088a-bad9-4794-faac-27e74f6f2d5d"
      },
      "source": [
        "# 모형 학습하기\n",
        "\n",
        "history = model.fit(X_train, y_train, epochs=30, \n",
        "                    validation_data=(X_valid, y_valid))"
      ],
      "execution_count": 10,
      "outputs": [
        {
          "output_type": "stream",
          "text": [
            "Epoch 1/30\n",
            "1719/1719 [==============================] - 17s 2ms/step - loss: 0.8428 - accuracy: 0.7444 - val_loss: 0.4706 - val_accuracy: 0.8338\n",
            "Epoch 2/30\n",
            "1719/1719 [==============================] - 4s 2ms/step - loss: 0.5055 - accuracy: 0.8224 - val_loss: 0.4926 - val_accuracy: 0.8094\n",
            "Epoch 3/30\n",
            "1719/1719 [==============================] - 4s 2ms/step - loss: 0.4623 - accuracy: 0.8424 - val_loss: 0.4597 - val_accuracy: 0.8436\n",
            "Epoch 4/30\n",
            "1719/1719 [==============================] - 4s 2ms/step - loss: 0.4394 - accuracy: 0.8528 - val_loss: 0.4551 - val_accuracy: 0.8520\n",
            "Epoch 5/30\n",
            "1719/1719 [==============================] - 4s 2ms/step - loss: 0.4435 - accuracy: 0.8532 - val_loss: 0.5027 - val_accuracy: 0.8222\n",
            "Epoch 6/30\n",
            "1719/1719 [==============================] - 4s 2ms/step - loss: 0.4331 - accuracy: 0.8533 - val_loss: 0.4301 - val_accuracy: 0.8644\n",
            "Epoch 7/30\n",
            "1719/1719 [==============================] - 4s 2ms/step - loss: 0.4255 - accuracy: 0.8633 - val_loss: 0.4894 - val_accuracy: 0.8544\n",
            "Epoch 8/30\n",
            "1719/1719 [==============================] - 4s 2ms/step - loss: 0.4021 - accuracy: 0.8689 - val_loss: 0.4545 - val_accuracy: 0.8606\n",
            "Epoch 9/30\n",
            "1719/1719 [==============================] - 4s 2ms/step - loss: 0.4057 - accuracy: 0.8678 - val_loss: 0.6000 - val_accuracy: 0.8114\n",
            "Epoch 10/30\n",
            "1719/1719 [==============================] - 4s 2ms/step - loss: 0.4244 - accuracy: 0.8636 - val_loss: 0.4662 - val_accuracy: 0.8636\n",
            "Epoch 11/30\n",
            "1719/1719 [==============================] - 4s 2ms/step - loss: 0.4377 - accuracy: 0.8612 - val_loss: 0.3988 - val_accuracy: 0.8744\n",
            "Epoch 12/30\n",
            "1719/1719 [==============================] - 4s 2ms/step - loss: 0.3655 - accuracy: 0.8782 - val_loss: 0.4891 - val_accuracy: 0.8760\n",
            "Epoch 13/30\n",
            "1719/1719 [==============================] - 4s 2ms/step - loss: 0.3997 - accuracy: 0.8708 - val_loss: 0.4735 - val_accuracy: 0.8524\n",
            "Epoch 14/30\n",
            "1719/1719 [==============================] - 4s 2ms/step - loss: 0.4130 - accuracy: 0.8631 - val_loss: 0.4527 - val_accuracy: 0.8684\n",
            "Epoch 15/30\n",
            "1719/1719 [==============================] - 4s 2ms/step - loss: 0.4038 - accuracy: 0.8694 - val_loss: 0.5639 - val_accuracy: 0.8414\n",
            "Epoch 16/30\n",
            "1719/1719 [==============================] - 4s 2ms/step - loss: 0.3951 - accuracy: 0.8745 - val_loss: 0.4746 - val_accuracy: 0.8646\n",
            "Epoch 17/30\n",
            "1719/1719 [==============================] - 4s 2ms/step - loss: 0.4313 - accuracy: 0.8675 - val_loss: 0.7079 - val_accuracy: 0.8340\n",
            "Epoch 18/30\n",
            "1719/1719 [==============================] - 4s 2ms/step - loss: 0.4334 - accuracy: 0.8623 - val_loss: 0.6046 - val_accuracy: 0.8638\n",
            "Epoch 19/30\n",
            "1719/1719 [==============================] - 4s 2ms/step - loss: 0.4090 - accuracy: 0.8696 - val_loss: 0.5361 - val_accuracy: 0.8534\n",
            "Epoch 20/30\n",
            "1719/1719 [==============================] - 4s 2ms/step - loss: 0.4099 - accuracy: 0.8736 - val_loss: 0.4841 - val_accuracy: 0.8550\n",
            "Epoch 21/30\n",
            "1719/1719 [==============================] - 4s 2ms/step - loss: 0.3730 - accuracy: 0.8809 - val_loss: 0.4873 - val_accuracy: 0.8662\n",
            "Epoch 22/30\n",
            "1719/1719 [==============================] - 4s 2ms/step - loss: 0.3632 - accuracy: 0.8815 - val_loss: 0.5151 - val_accuracy: 0.8548\n",
            "Epoch 23/30\n",
            "1719/1719 [==============================] - 4s 2ms/step - loss: 0.3811 - accuracy: 0.8778 - val_loss: 0.5824 - val_accuracy: 0.8614\n",
            "Epoch 24/30\n",
            "1719/1719 [==============================] - 4s 2ms/step - loss: 0.4056 - accuracy: 0.8787 - val_loss: 0.5411 - val_accuracy: 0.8788\n",
            "Epoch 25/30\n",
            "1719/1719 [==============================] - 4s 2ms/step - loss: 0.3569 - accuracy: 0.8849 - val_loss: 0.5216 - val_accuracy: 0.8672\n",
            "Epoch 26/30\n",
            "1719/1719 [==============================] - 4s 2ms/step - loss: 0.3701 - accuracy: 0.8826 - val_loss: 0.5487 - val_accuracy: 0.8632\n",
            "Epoch 27/30\n",
            "1719/1719 [==============================] - 4s 2ms/step - loss: 0.3744 - accuracy: 0.8829 - val_loss: 0.5635 - val_accuracy: 0.8648\n",
            "Epoch 28/30\n",
            "1719/1719 [==============================] - 4s 2ms/step - loss: 0.3603 - accuracy: 0.8853 - val_loss: 0.5094 - val_accuracy: 0.8750\n",
            "Epoch 29/30\n",
            "1719/1719 [==============================] - 4s 2ms/step - loss: 0.3431 - accuracy: 0.8916 - val_loss: 0.4818 - val_accuracy: 0.8488\n",
            "Epoch 30/30\n",
            "1719/1719 [==============================] - 4s 2ms/step - loss: 0.3593 - accuracy: 0.8812 - val_loss: 0.6363 - val_accuracy: 0.8552\n"
          ],
          "name": "stdout"
        }
      ]
    },
    {
      "cell_type": "markdown",
      "metadata": {
        "id": "lbtl1xRK3Z8-"
      },
      "source": [
        "## 3. Dropout 사용해보기"
      ]
    },
    {
      "cell_type": "code",
      "metadata": {
        "id": "E10CARVtg-9u"
      },
      "source": [
        "model = keras.models.Sequential()\n",
        "\n",
        "model.add(keras.layers.Flatten(input_shape=[28,28]))\n",
        "model.add(keras.layers.Dropout(rate=0.2))\n",
        "\n",
        "model.add(keras.layers.Dense(300,activation=\"elu\"))\n",
        "model.add(keras.layers.Dropout(rate=0.2))\n",
        "\n",
        "model.add(keras.layers.Dense(100,activation=\"elu\"))\n",
        "model.add(keras.layers.Dropout(rate=0.2))\n",
        "\n",
        "model.add(keras.layers.Dense(10,activation=\"softmax\"))"
      ],
      "execution_count": 11,
      "outputs": []
    },
    {
      "cell_type": "code",
      "metadata": {
        "colab": {
          "base_uri": "https://localhost:8080/"
        },
        "id": "jR4XMMm-eBnY",
        "outputId": "947d05f5-bc64-48a8-fda6-dcc798e64b5c"
      },
      "source": [
        "model.summary()"
      ],
      "execution_count": 15,
      "outputs": [
        {
          "output_type": "stream",
          "text": [
            "Model: \"sequential_2\"\n",
            "_________________________________________________________________\n",
            "Layer (type)                 Output Shape              Param #   \n",
            "=================================================================\n",
            "flatten_2 (Flatten)          (None, 784)               0         \n",
            "_________________________________________________________________\n",
            "batch_normalization (BatchNo (None, 784)               3136      \n",
            "_________________________________________________________________\n",
            "dense_6 (Dense)              (None, 300)               235500    \n",
            "_________________________________________________________________\n",
            "batch_normalization_1 (Batch (None, 300)               1200      \n",
            "_________________________________________________________________\n",
            "dense_7 (Dense)              (None, 100)               30100     \n",
            "_________________________________________________________________\n",
            "batch_normalization_2 (Batch (None, 100)               400       \n",
            "_________________________________________________________________\n",
            "dense_8 (Dense)              (None, 10)                1010      \n",
            "=================================================================\n",
            "Total params: 271,346\n",
            "Trainable params: 268,978\n",
            "Non-trainable params: 2,368\n",
            "_________________________________________________________________\n"
          ],
          "name": "stdout"
        }
      ]
    },
    {
      "cell_type": "code",
      "metadata": {
        "id": "PR9EcCHohVMU"
      },
      "source": [
        "model.compile(loss=\"sparse_categorical_crossentropy\", optimizer=\"sgd\", \n",
        "              metrics=[\"accuracy\"])\n"
      ],
      "execution_count": 12,
      "outputs": []
    },
    {
      "cell_type": "code",
      "metadata": {
        "colab": {
          "base_uri": "https://localhost:8080/"
        },
        "id": "PA3HtNKChPRc",
        "outputId": "a851e0c2-4b3c-409f-86b9-e15a042eeb9b"
      },
      "source": [
        "history = model.fit(X_train, y_train, epochs=30, validation_data=(X_valid, y_valid))"
      ],
      "execution_count": 13,
      "outputs": [
        {
          "output_type": "stream",
          "text": [
            "Epoch 1/30\n",
            "1719/1719 [==============================] - 5s 2ms/step - loss: 1.0002 - accuracy: 0.6503 - val_loss: 0.5147 - val_accuracy: 0.8188\n",
            "Epoch 2/30\n",
            "1719/1719 [==============================] - 4s 2ms/step - loss: 0.5798 - accuracy: 0.7920 - val_loss: 0.4554 - val_accuracy: 0.8398\n",
            "Epoch 3/30\n",
            "1719/1719 [==============================] - 4s 2ms/step - loss: 0.5412 - accuracy: 0.8046 - val_loss: 0.4479 - val_accuracy: 0.8408\n",
            "Epoch 4/30\n",
            "1719/1719 [==============================] - 4s 2ms/step - loss: 0.5077 - accuracy: 0.8150 - val_loss: 0.4282 - val_accuracy: 0.8486\n",
            "Epoch 5/30\n",
            "1719/1719 [==============================] - 4s 2ms/step - loss: 0.4984 - accuracy: 0.8212 - val_loss: 0.4092 - val_accuracy: 0.8566\n",
            "Epoch 6/30\n",
            "1719/1719 [==============================] - 4s 2ms/step - loss: 0.4915 - accuracy: 0.8221 - val_loss: 0.4029 - val_accuracy: 0.8586\n",
            "Epoch 7/30\n",
            "1719/1719 [==============================] - 4s 2ms/step - loss: 0.4796 - accuracy: 0.8277 - val_loss: 0.3971 - val_accuracy: 0.8604\n",
            "Epoch 8/30\n",
            "1719/1719 [==============================] - 4s 2ms/step - loss: 0.4695 - accuracy: 0.8310 - val_loss: 0.3950 - val_accuracy: 0.8582\n",
            "Epoch 9/30\n",
            "1719/1719 [==============================] - 4s 2ms/step - loss: 0.4641 - accuracy: 0.8300 - val_loss: 0.3851 - val_accuracy: 0.8634\n",
            "Epoch 10/30\n",
            "1719/1719 [==============================] - 4s 2ms/step - loss: 0.4510 - accuracy: 0.8361 - val_loss: 0.3804 - val_accuracy: 0.8686\n",
            "Epoch 11/30\n",
            "1719/1719 [==============================] - 4s 2ms/step - loss: 0.4494 - accuracy: 0.8342 - val_loss: 0.3810 - val_accuracy: 0.8644\n",
            "Epoch 12/30\n",
            "1719/1719 [==============================] - 4s 2ms/step - loss: 0.4367 - accuracy: 0.8416 - val_loss: 0.3756 - val_accuracy: 0.8674\n",
            "Epoch 13/30\n",
            "1719/1719 [==============================] - 4s 2ms/step - loss: 0.4403 - accuracy: 0.8392 - val_loss: 0.3699 - val_accuracy: 0.8676\n",
            "Epoch 14/30\n",
            "1719/1719 [==============================] - 4s 2ms/step - loss: 0.4323 - accuracy: 0.8414 - val_loss: 0.3744 - val_accuracy: 0.8638\n",
            "Epoch 15/30\n",
            "1719/1719 [==============================] - 4s 2ms/step - loss: 0.4321 - accuracy: 0.8421 - val_loss: 0.3648 - val_accuracy: 0.8698\n",
            "Epoch 16/30\n",
            "1719/1719 [==============================] - 4s 2ms/step - loss: 0.4270 - accuracy: 0.8432 - val_loss: 0.3724 - val_accuracy: 0.8642\n",
            "Epoch 17/30\n",
            "1719/1719 [==============================] - 4s 2ms/step - loss: 0.4221 - accuracy: 0.8475 - val_loss: 0.3622 - val_accuracy: 0.8724\n",
            "Epoch 18/30\n",
            "1719/1719 [==============================] - 4s 2ms/step - loss: 0.4211 - accuracy: 0.8450 - val_loss: 0.3562 - val_accuracy: 0.8716\n",
            "Epoch 19/30\n",
            "1719/1719 [==============================] - 4s 2ms/step - loss: 0.4214 - accuracy: 0.8429 - val_loss: 0.3523 - val_accuracy: 0.8724\n",
            "Epoch 20/30\n",
            "1719/1719 [==============================] - 4s 2ms/step - loss: 0.4132 - accuracy: 0.8455 - val_loss: 0.3502 - val_accuracy: 0.8762\n",
            "Epoch 21/30\n",
            "1719/1719 [==============================] - 4s 2ms/step - loss: 0.4085 - accuracy: 0.8491 - val_loss: 0.3549 - val_accuracy: 0.8708\n",
            "Epoch 22/30\n",
            "1719/1719 [==============================] - 4s 2ms/step - loss: 0.4093 - accuracy: 0.8511 - val_loss: 0.3510 - val_accuracy: 0.8722\n",
            "Epoch 23/30\n",
            "1719/1719 [==============================] - 4s 2ms/step - loss: 0.4042 - accuracy: 0.8507 - val_loss: 0.3509 - val_accuracy: 0.8716\n",
            "Epoch 24/30\n",
            "1719/1719 [==============================] - 4s 2ms/step - loss: 0.4004 - accuracy: 0.8512 - val_loss: 0.3449 - val_accuracy: 0.8754\n",
            "Epoch 25/30\n",
            "1719/1719 [==============================] - 4s 2ms/step - loss: 0.3974 - accuracy: 0.8536 - val_loss: 0.3446 - val_accuracy: 0.8750\n",
            "Epoch 26/30\n",
            "1719/1719 [==============================] - 4s 2ms/step - loss: 0.4027 - accuracy: 0.8515 - val_loss: 0.3407 - val_accuracy: 0.8742\n",
            "Epoch 27/30\n",
            "1719/1719 [==============================] - 4s 2ms/step - loss: 0.3968 - accuracy: 0.8519 - val_loss: 0.3411 - val_accuracy: 0.8776\n",
            "Epoch 28/30\n",
            "1719/1719 [==============================] - 4s 2ms/step - loss: 0.3962 - accuracy: 0.8533 - val_loss: 0.3446 - val_accuracy: 0.8742\n",
            "Epoch 29/30\n",
            "1719/1719 [==============================] - 4s 2ms/step - loss: 0.4029 - accuracy: 0.8542 - val_loss: 0.3357 - val_accuracy: 0.8766\n",
            "Epoch 30/30\n",
            "1719/1719 [==============================] - 4s 2ms/step - loss: 0.3909 - accuracy: 0.8566 - val_loss: 0.3395 - val_accuracy: 0.8790\n"
          ],
          "name": "stdout"
        }
      ]
    },
    {
      "cell_type": "markdown",
      "metadata": {
        "id": "cuaY91c93i-H"
      },
      "source": [
        "## 4. Batch Normalization 사용해보기"
      ]
    },
    {
      "cell_type": "code",
      "metadata": {
        "id": "bqp8vvzviz6S"
      },
      "source": [
        "model=keras.models.Sequential()\n",
        "\n",
        "model.add(keras.layers.Flatten(input_shape=[28,28]))\n",
        "model.add(keras.layers.BatchNormalization())\n",
        "\n",
        "model.add(keras.layers.Dense(300,activation=\"elu\"))\n",
        "model.add(keras.layers.BatchNormalization())\n",
        "\n",
        "model.add(keras.layers.Dense(100,activation=\"elu\"))\n",
        "model.add(keras.layers.BatchNormalization())\n",
        "\n",
        "model.add(keras.layers.Dense(10,activation=\"softmax\"))"
      ],
      "execution_count": 16,
      "outputs": []
    },
    {
      "cell_type": "code",
      "metadata": {
        "colab": {
          "base_uri": "https://localhost:8080/"
        },
        "id": "hun7gfqU44Fw",
        "outputId": "8eef4fff-a1cf-4ff3-926d-2c54cef1282b"
      },
      "source": [
        "model.summary()"
      ],
      "execution_count": 17,
      "outputs": [
        {
          "output_type": "stream",
          "text": [
            "Model: \"sequential_3\"\n",
            "_________________________________________________________________\n",
            "Layer (type)                 Output Shape              Param #   \n",
            "=================================================================\n",
            "flatten_3 (Flatten)          (None, 784)               0         \n",
            "_________________________________________________________________\n",
            "batch_normalization_3 (Batch (None, 784)               3136      \n",
            "_________________________________________________________________\n",
            "dense_9 (Dense)              (None, 300)               235500    \n",
            "_________________________________________________________________\n",
            "batch_normalization_4 (Batch (None, 300)               1200      \n",
            "_________________________________________________________________\n",
            "dense_10 (Dense)             (None, 100)               30100     \n",
            "_________________________________________________________________\n",
            "batch_normalization_5 (Batch (None, 100)               400       \n",
            "_________________________________________________________________\n",
            "dense_11 (Dense)             (None, 10)                1010      \n",
            "=================================================================\n",
            "Total params: 271,346\n",
            "Trainable params: 268,978\n",
            "Non-trainable params: 2,368\n",
            "_________________________________________________________________\n"
          ],
          "name": "stdout"
        }
      ]
    },
    {
      "cell_type": "code",
      "metadata": {
        "id": "OOzNdltYi7f9"
      },
      "source": [
        "model.compile(loss=\"sparse_categorical_crossentropy\", optimizer=\"sgd\", \n",
        "              metrics=[\"accuracy\"])\n"
      ],
      "execution_count": 18,
      "outputs": []
    },
    {
      "cell_type": "code",
      "metadata": {
        "colab": {
          "base_uri": "https://localhost:8080/"
        },
        "id": "lcK5OV9ii8Br",
        "outputId": "1c340f25-0aeb-4f2f-996e-a8d7d6fa68dc"
      },
      "source": [
        "history=model.fit(X_train, y_train, epochs=30, validation_data=(X_valid, y_valid))"
      ],
      "execution_count": 19,
      "outputs": [
        {
          "output_type": "stream",
          "text": [
            "Epoch 1/30\n",
            "1719/1719 [==============================] - 9s 3ms/step - loss: 0.6585 - accuracy: 0.7775 - val_loss: 0.3945 - val_accuracy: 0.8646\n",
            "Epoch 2/30\n",
            "1719/1719 [==============================] - 6s 3ms/step - loss: 0.4288 - accuracy: 0.8489 - val_loss: 0.3736 - val_accuracy: 0.8686\n",
            "Epoch 3/30\n",
            "1719/1719 [==============================] - 6s 3ms/step - loss: 0.3884 - accuracy: 0.8623 - val_loss: 0.3501 - val_accuracy: 0.8760\n",
            "Epoch 4/30\n",
            "1719/1719 [==============================] - 5s 3ms/step - loss: 0.3557 - accuracy: 0.8727 - val_loss: 0.3424 - val_accuracy: 0.8776\n",
            "Epoch 5/30\n",
            "1719/1719 [==============================] - 6s 3ms/step - loss: 0.3396 - accuracy: 0.8789 - val_loss: 0.3241 - val_accuracy: 0.8808\n",
            "Epoch 6/30\n",
            "1719/1719 [==============================] - 6s 3ms/step - loss: 0.3312 - accuracy: 0.8800 - val_loss: 0.3275 - val_accuracy: 0.8830\n",
            "Epoch 7/30\n",
            "1719/1719 [==============================] - 6s 3ms/step - loss: 0.3159 - accuracy: 0.8862 - val_loss: 0.3210 - val_accuracy: 0.8852\n",
            "Epoch 8/30\n",
            "1719/1719 [==============================] - 6s 3ms/step - loss: 0.3028 - accuracy: 0.8923 - val_loss: 0.3183 - val_accuracy: 0.8842\n",
            "Epoch 9/30\n",
            "1719/1719 [==============================] - 6s 3ms/step - loss: 0.2916 - accuracy: 0.8944 - val_loss: 0.3274 - val_accuracy: 0.8822\n",
            "Epoch 10/30\n",
            "1719/1719 [==============================] - 6s 3ms/step - loss: 0.2827 - accuracy: 0.8975 - val_loss: 0.3058 - val_accuracy: 0.8882\n",
            "Epoch 11/30\n",
            "1719/1719 [==============================] - 6s 3ms/step - loss: 0.2760 - accuracy: 0.8993 - val_loss: 0.3032 - val_accuracy: 0.8886\n",
            "Epoch 12/30\n",
            "1719/1719 [==============================] - 6s 3ms/step - loss: 0.2689 - accuracy: 0.9029 - val_loss: 0.3049 - val_accuracy: 0.8900\n",
            "Epoch 13/30\n",
            "1719/1719 [==============================] - 6s 3ms/step - loss: 0.2581 - accuracy: 0.9082 - val_loss: 0.3078 - val_accuracy: 0.8880\n",
            "Epoch 14/30\n",
            "1719/1719 [==============================] - 6s 3ms/step - loss: 0.2534 - accuracy: 0.9076 - val_loss: 0.3051 - val_accuracy: 0.8904\n",
            "Epoch 15/30\n",
            "1719/1719 [==============================] - 6s 3ms/step - loss: 0.2454 - accuracy: 0.9110 - val_loss: 0.3092 - val_accuracy: 0.8874\n",
            "Epoch 16/30\n",
            "1719/1719 [==============================] - 6s 3ms/step - loss: 0.2345 - accuracy: 0.9151 - val_loss: 0.3032 - val_accuracy: 0.8916\n",
            "Epoch 17/30\n",
            "1719/1719 [==============================] - 6s 3ms/step - loss: 0.2310 - accuracy: 0.9165 - val_loss: 0.2978 - val_accuracy: 0.8914\n",
            "Epoch 18/30\n",
            "1719/1719 [==============================] - 6s 3ms/step - loss: 0.2239 - accuracy: 0.9185 - val_loss: 0.3057 - val_accuracy: 0.8912\n",
            "Epoch 19/30\n",
            "1719/1719 [==============================] - 6s 3ms/step - loss: 0.2201 - accuracy: 0.9202 - val_loss: 0.3048 - val_accuracy: 0.8890\n",
            "Epoch 20/30\n",
            "1719/1719 [==============================] - 6s 3ms/step - loss: 0.2169 - accuracy: 0.9211 - val_loss: 0.3002 - val_accuracy: 0.8900\n",
            "Epoch 21/30\n",
            "1719/1719 [==============================] - 6s 3ms/step - loss: 0.2116 - accuracy: 0.9229 - val_loss: 0.3044 - val_accuracy: 0.8904\n",
            "Epoch 22/30\n",
            "1719/1719 [==============================] - 5s 3ms/step - loss: 0.2019 - accuracy: 0.9259 - val_loss: 0.3117 - val_accuracy: 0.8924\n",
            "Epoch 23/30\n",
            "1719/1719 [==============================] - 6s 3ms/step - loss: 0.1973 - accuracy: 0.9277 - val_loss: 0.3054 - val_accuracy: 0.8874\n",
            "Epoch 24/30\n",
            "1719/1719 [==============================] - 6s 3ms/step - loss: 0.2033 - accuracy: 0.9251 - val_loss: 0.3100 - val_accuracy: 0.8890\n",
            "Epoch 25/30\n",
            "1719/1719 [==============================] - 6s 3ms/step - loss: 0.1934 - accuracy: 0.9297 - val_loss: 0.3106 - val_accuracy: 0.8892\n",
            "Epoch 26/30\n",
            "1719/1719 [==============================] - 6s 3ms/step - loss: 0.1858 - accuracy: 0.9327 - val_loss: 0.3081 - val_accuracy: 0.8906\n",
            "Epoch 27/30\n",
            "1719/1719 [==============================] - 6s 3ms/step - loss: 0.1815 - accuracy: 0.9346 - val_loss: 0.3057 - val_accuracy: 0.8922\n",
            "Epoch 28/30\n",
            "1719/1719 [==============================] - 6s 3ms/step - loss: 0.1839 - accuracy: 0.9345 - val_loss: 0.3143 - val_accuracy: 0.8888\n",
            "Epoch 29/30\n",
            "1719/1719 [==============================] - 6s 3ms/step - loss: 0.1785 - accuracy: 0.9352 - val_loss: 0.3158 - val_accuracy: 0.8926\n",
            "Epoch 30/30\n",
            "1719/1719 [==============================] - 6s 3ms/step - loss: 0.1738 - accuracy: 0.9361 - val_loss: 0.3127 - val_accuracy: 0.8952\n"
          ],
          "name": "stdout"
        }
      ]
    },
    {
      "cell_type": "markdown",
      "metadata": {
        "id": "ofYeNbjB3ypm"
      },
      "source": [
        "## 5. L1, L2, max norm 정규화 해보기"
      ]
    },
    {
      "cell_type": "code",
      "metadata": {
        "id": "c_FZI3nZj35m"
      },
      "source": [
        "model=keras.models.Sequential()\n",
        "\n",
        "model.add(keras.layers.Flatten(input_shape=[28,28]))\n",
        "\n",
        "model.add(keras.layers.Dense(300,activation=\"elu\"))\n",
        "\n",
        "# L1 정규화\n",
        "'''model.add(keras.layers.Dense(100, activation=\"elu\", \n",
        "                        kernel_regularizer=keras.regularizers.l1(0.01)))'''\n",
        "\n",
        "# L2 정규화\n",
        "model.add(keras.layers.Dense(100, activation=\"elu\", \n",
        "                        kernel_regularizer=keras.regularizers.l2(l2=0.01)))\n",
        "\n",
        "# max norm\n",
        "'''model.add(keras.layers.Dense(100,activation=\"elu\", \n",
        "                        kernel_constraint=keras.constraints.max_norm(1.)))'''\n",
        "\n",
        "model.add(keras.layers.Dense(10,activation=\"softmax\"))"
      ],
      "execution_count": 20,
      "outputs": []
    },
    {
      "cell_type": "code",
      "metadata": {
        "id": "R0jSBsRQlOWa"
      },
      "source": [
        "model.compile(loss=\"sparse_categorical_crossentropy\", optimizer=\"sgd\", \n",
        "              metrics=[\"accuracy\"])\n"
      ],
      "execution_count": 21,
      "outputs": []
    },
    {
      "cell_type": "code",
      "metadata": {
        "colab": {
          "base_uri": "https://localhost:8080/"
        },
        "id": "pUJ8oayxlPXr",
        "outputId": "ed2e03d0-2a0b-433b-a5bd-bfc4f2966a49"
      },
      "source": [
        "history = model.fit(X_train, y_train, epochs=30, \n",
        "                    validation_data=(X_valid, y_valid))"
      ],
      "execution_count": 22,
      "outputs": [
        {
          "output_type": "stream",
          "text": [
            "Epoch 1/30\n",
            "1719/1719 [==============================] - 4s 2ms/step - loss: 2.1849 - accuracy: 0.7126 - val_loss: 1.3069 - val_accuracy: 0.8356\n",
            "Epoch 2/30\n",
            "1719/1719 [==============================] - 4s 2ms/step - loss: 1.2115 - accuracy: 0.8231 - val_loss: 0.9153 - val_accuracy: 0.8362\n",
            "Epoch 3/30\n",
            "1719/1719 [==============================] - 4s 2ms/step - loss: 0.8571 - accuracy: 0.8334 - val_loss: 0.6952 - val_accuracy: 0.8488\n",
            "Epoch 4/30\n",
            "1719/1719 [==============================] - 4s 2ms/step - loss: 0.6829 - accuracy: 0.8384 - val_loss: 0.5955 - val_accuracy: 0.8476\n",
            "Epoch 5/30\n",
            "1719/1719 [==============================] - 4s 2ms/step - loss: 0.5849 - accuracy: 0.8420 - val_loss: 0.5332 - val_accuracy: 0.8548\n",
            "Epoch 6/30\n",
            "1719/1719 [==============================] - 4s 2ms/step - loss: 0.5309 - accuracy: 0.8494 - val_loss: 0.5005 - val_accuracy: 0.8582\n",
            "Epoch 7/30\n",
            "1719/1719 [==============================] - 4s 2ms/step - loss: 0.5069 - accuracy: 0.8491 - val_loss: 0.4822 - val_accuracy: 0.8544\n",
            "Epoch 8/30\n",
            "1719/1719 [==============================] - 4s 2ms/step - loss: 0.4884 - accuracy: 0.8509 - val_loss: 0.4710 - val_accuracy: 0.8544\n",
            "Epoch 9/30\n",
            "1719/1719 [==============================] - 4s 2ms/step - loss: 0.4701 - accuracy: 0.8540 - val_loss: 0.4682 - val_accuracy: 0.8554\n",
            "Epoch 10/30\n",
            "1719/1719 [==============================] - 4s 2ms/step - loss: 0.4641 - accuracy: 0.8530 - val_loss: 0.4494 - val_accuracy: 0.8618\n",
            "Epoch 11/30\n",
            "1719/1719 [==============================] - 4s 2ms/step - loss: 0.4538 - accuracy: 0.8557 - val_loss: 0.4448 - val_accuracy: 0.8610\n",
            "Epoch 12/30\n",
            "1719/1719 [==============================] - 4s 2ms/step - loss: 0.4424 - accuracy: 0.8603 - val_loss: 0.4540 - val_accuracy: 0.8578\n",
            "Epoch 13/30\n",
            "1719/1719 [==============================] - 4s 2ms/step - loss: 0.4372 - accuracy: 0.8610 - val_loss: 0.4364 - val_accuracy: 0.8622\n",
            "Epoch 14/30\n",
            "1719/1719 [==============================] - 4s 2ms/step - loss: 0.4332 - accuracy: 0.8632 - val_loss: 0.4330 - val_accuracy: 0.8606\n",
            "Epoch 15/30\n",
            "1719/1719 [==============================] - 4s 2ms/step - loss: 0.4341 - accuracy: 0.8601 - val_loss: 0.4332 - val_accuracy: 0.8608\n",
            "Epoch 16/30\n",
            "1719/1719 [==============================] - 4s 2ms/step - loss: 0.4214 - accuracy: 0.8667 - val_loss: 0.4273 - val_accuracy: 0.8640\n",
            "Epoch 17/30\n",
            "1719/1719 [==============================] - 4s 2ms/step - loss: 0.4173 - accuracy: 0.8656 - val_loss: 0.4331 - val_accuracy: 0.8590\n",
            "Epoch 18/30\n",
            "1719/1719 [==============================] - 4s 2ms/step - loss: 0.4148 - accuracy: 0.8668 - val_loss: 0.4265 - val_accuracy: 0.8632\n",
            "Epoch 19/30\n",
            "1719/1719 [==============================] - 4s 2ms/step - loss: 0.4160 - accuracy: 0.8665 - val_loss: 0.4129 - val_accuracy: 0.8688\n",
            "Epoch 20/30\n",
            "1719/1719 [==============================] - 4s 2ms/step - loss: 0.4115 - accuracy: 0.8672 - val_loss: 0.4114 - val_accuracy: 0.8668\n",
            "Epoch 21/30\n",
            "1719/1719 [==============================] - 4s 2ms/step - loss: 0.4115 - accuracy: 0.8670 - val_loss: 0.4149 - val_accuracy: 0.8672\n",
            "Epoch 22/30\n",
            "1719/1719 [==============================] - 4s 2ms/step - loss: 0.4108 - accuracy: 0.8663 - val_loss: 0.4070 - val_accuracy: 0.8678\n",
            "Epoch 23/30\n",
            "1719/1719 [==============================] - 4s 2ms/step - loss: 0.3972 - accuracy: 0.8709 - val_loss: 0.4048 - val_accuracy: 0.8658\n",
            "Epoch 24/30\n",
            "1719/1719 [==============================] - 4s 2ms/step - loss: 0.4016 - accuracy: 0.8691 - val_loss: 0.4082 - val_accuracy: 0.8652\n",
            "Epoch 25/30\n",
            "1719/1719 [==============================] - 4s 2ms/step - loss: 0.3987 - accuracy: 0.8715 - val_loss: 0.4025 - val_accuracy: 0.8670\n",
            "Epoch 26/30\n",
            "1719/1719 [==============================] - 4s 2ms/step - loss: 0.3941 - accuracy: 0.8725 - val_loss: 0.3984 - val_accuracy: 0.8688\n",
            "Epoch 27/30\n",
            "1719/1719 [==============================] - 4s 2ms/step - loss: 0.3885 - accuracy: 0.8740 - val_loss: 0.4028 - val_accuracy: 0.8716\n",
            "Epoch 28/30\n",
            "1719/1719 [==============================] - 4s 2ms/step - loss: 0.3873 - accuracy: 0.8744 - val_loss: 0.3962 - val_accuracy: 0.8704\n",
            "Epoch 29/30\n",
            "1719/1719 [==============================] - 4s 2ms/step - loss: 0.3811 - accuracy: 0.8772 - val_loss: 0.4005 - val_accuracy: 0.8682\n",
            "Epoch 30/30\n",
            "1719/1719 [==============================] - 4s 2ms/step - loss: 0.3789 - accuracy: 0.8763 - val_loss: 0.3896 - val_accuracy: 0.8718\n"
          ],
          "name": "stdout"
        }
      ]
    }
  ]
}